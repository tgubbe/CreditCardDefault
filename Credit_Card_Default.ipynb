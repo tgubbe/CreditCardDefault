{
  "nbformat": 4,
  "nbformat_minor": 0,
  "metadata": {
    "colab": {
      "provenance": [],
      "authorship_tag": "ABX9TyPV0cgIBXqvipIuNmTVGaM0",
      "include_colab_link": true
    },
    "kernelspec": {
      "name": "python3",
      "display_name": "Python 3"
    },
    "language_info": {
      "name": "python"
    }
  },
  "cells": [
    {
      "cell_type": "markdown",
      "metadata": {
        "id": "view-in-github",
        "colab_type": "text"
      },
      "source": [
        "<a href=\"https://colab.research.google.com/github/tgubbe/CreditCardDefault/blob/main/Credit_Card_Default.ipynb\" target=\"_parent\"><img src=\"https://colab.research.google.com/assets/colab-badge.svg\" alt=\"Open In Colab\"/></a>"
      ]
    },
    {
      "cell_type": "markdown",
      "source": [
        "# **Predicting Credit Card Default Using Predictive Modeling**"
      ],
      "metadata": {
        "id": "1qvDEhcu4cJW"
      }
    },
    {
      "cell_type": "markdown",
      "source": [
        "In this session, I examine the Credit Card Clients data set found on the UCI Machine Learning Repository website to determine if a person will default on their credit card using logistic regression, random forest, and a neural network. "
      ],
      "metadata": {
        "id": "net2WzgW45ue"
      }
    },
    {
      "cell_type": "markdown",
      "source": [
        "**About the Data**"
      ],
      "metadata": {
        "id": "sKUIb1wx48zy"
      }
    },
    {
      "cell_type": "markdown",
      "source": [
        "The data set can be found on the UCI Machine Learning Repository site at the following link: <https://archive.ics.uci.edu/ml/datasets/default+of+credit+card+clients>.\n",
        "\n",
        "The data contains 24 variables and a total of 30,000 individual instances. The variables are:\n",
        "\n",
        "* Default Payment (0 = No, 1 = Yes)\n",
        "* Amount of Given Credit\n",
        "* Gender (1 = Male, 2 = Female)\n",
        "* Education (1 = Graduate School, 2 = University, 3 = High School, 4 = Other, 5 = Unknown)\n",
        "* Marital Status (1 = Married, 2 = Single, 3 = Others)\n",
        "* Age\n",
        "* History of Past Payment from April 2005 to September 2005 where -2=no consumption, -1=pay duly, 0=the use of revolving credit, 1=payment delay for one month, 2=payment delay for two months, … 9=payment delay for nine months and above\n",
        "* Amount of Bill Statement from April 2005 to September 2005 \n",
        "* Amount of Previous Payment April 2005 to September 2005\n",
        "\n",
        "There is a separate variable for each past payment, bill statement, and previous payment from April to September."
      ],
      "metadata": {
        "id": "KH4faT-d5zlL"
      }
    },
    {
      "cell_type": "markdown",
      "source": [
        "## **Setup**"
      ],
      "metadata": {
        "id": "2OaV0Ied6Ca4"
      }
    },
    {
      "cell_type": "markdown",
      "source": [
        "Below are the imports used for the data, including pandas, seaborn, numpy, scikit-learn, and matplotlib"
      ],
      "metadata": {
        "id": "3pG--BzO6E5p"
      }
    },
    {
      "cell_type": "code",
      "source": [
        "import pandas as pd\n",
        "import numpy as np\n",
        "import seaborn as sns\n",
        "import matplotlib.pyplot as plt\n",
        "from sklearn.preprocessing import StandardScaler\n",
        "from sklearn.preprocessing import MinMaxScaler\n",
        "from sklearn.model_selection import train_test_split\n",
        "from sklearn.linear_model import LogisticRegression\n",
        "from sklearn.metrics import classification_report, confusion_matrix, plot_confusion_matrix, ConfusionMatrixDisplay\n",
        "%matplotlib inline\n",
        "sns.set_style('darkgrid')"
      ],
      "metadata": {
        "id": "vynjBNPd9whd"
      },
      "execution_count": null,
      "outputs": []
    },
    {
      "cell_type": "markdown",
      "source": [
        "I imported the data from my Google Drive. The data is then loaded into a dataframe named \"credit\"."
      ],
      "metadata": {
        "id": "9humGwBr6MC2"
      }
    },
    {
      "cell_type": "code",
      "execution_count": null,
      "metadata": {
        "colab": {
          "base_uri": "https://localhost:8080/"
        },
        "id": "NqrgDwAo9dik",
        "outputId": "bdf65bcb-a1e4-4e99-d86b-449c3e6ce613"
      },
      "outputs": [
        {
          "output_type": "stream",
          "name": "stdout",
          "text": [
            "Mounted at /content/gdrive\n"
          ]
        }
      ],
      "source": [
        "from google.colab import drive\n",
        "drive.mount(\"/content/gdrive\")"
      ]
    },
    {
      "cell_type": "code",
      "source": [
        "credit = pd.read_csv('/content/gdrive/My Drive/Datasets/Credit_Card.csv')"
      ],
      "metadata": {
        "id": "OJPBVRtX9jCD"
      },
      "execution_count": null,
      "outputs": []
    },
    {
      "cell_type": "markdown",
      "source": [
        "## **Exploratory Data Analysis**"
      ],
      "metadata": {
        "id": "xaCl0Vu26X94"
      }
    },
    {
      "cell_type": "markdown",
      "source": [
        "First, the data is explored to view the patterns and trends."
      ],
      "metadata": {
        "id": "3AMS-L5d6bPm"
      }
    },
    {
      "cell_type": "code",
      "source": [
        "credit.head()"
      ],
      "metadata": {
        "colab": {
          "base_uri": "https://localhost:8080/",
          "height": 299
        },
        "id": "_J8rzfl4-A2p",
        "outputId": "52c39da9-48cd-429a-8a5e-43a4e068dc2a"
      },
      "execution_count": null,
      "outputs": [
        {
          "output_type": "execute_result",
          "data": {
            "text/plain": [
              "   ID  Limit_Bal  Sex  Education  Marriage  Age  Pay_Sep  Pay_Aug  Pay_July  \\\n",
              "0   1      20000    2          2         1   24        2        2        -1   \n",
              "1   2     120000    2          2         2   26       -1        2         0   \n",
              "2   3      90000    2          2         2   34        0        0         0   \n",
              "3   4      50000    2          2         1   37        0        0         0   \n",
              "4   5      50000    1          2         1   57       -1        0        -1   \n",
              "\n",
              "   Pay_June  ...  Bill_Amt_June  Bill_Amt_May  Bill_Amt_April  Pay_Amt_Sep  \\\n",
              "0        -1  ...              0             0               0            0   \n",
              "1         0  ...           3272          3455            3261            0   \n",
              "2         0  ...          14331         14948           15549         1518   \n",
              "3         0  ...          28314         28959           29547         2000   \n",
              "4         0  ...          20940         19146           19131         2000   \n",
              "\n",
              "   Pay_Amt_Aug  Pay_Amt_July  Pay_Amt_June  Pay_Amt_May  Pay_Amt_April  \\\n",
              "0          689             0             0            0              0   \n",
              "1         1000          1000          1000            0           2000   \n",
              "2         1500          1000          1000         1000           5000   \n",
              "3         2019          1200          1100         1069           1000   \n",
              "4        36681         10000          9000          689            679   \n",
              "\n",
              "   Default  \n",
              "0        1  \n",
              "1        1  \n",
              "2        0  \n",
              "3        0  \n",
              "4        0  \n",
              "\n",
              "[5 rows x 25 columns]"
            ],
            "text/html": [
              "\n",
              "  <div id=\"df-1b0791ed-96f9-49cc-a07a-348746e48282\">\n",
              "    <div class=\"colab-df-container\">\n",
              "      <div>\n",
              "<style scoped>\n",
              "    .dataframe tbody tr th:only-of-type {\n",
              "        vertical-align: middle;\n",
              "    }\n",
              "\n",
              "    .dataframe tbody tr th {\n",
              "        vertical-align: top;\n",
              "    }\n",
              "\n",
              "    .dataframe thead th {\n",
              "        text-align: right;\n",
              "    }\n",
              "</style>\n",
              "<table border=\"1\" class=\"dataframe\">\n",
              "  <thead>\n",
              "    <tr style=\"text-align: right;\">\n",
              "      <th></th>\n",
              "      <th>ID</th>\n",
              "      <th>Limit_Bal</th>\n",
              "      <th>Sex</th>\n",
              "      <th>Education</th>\n",
              "      <th>Marriage</th>\n",
              "      <th>Age</th>\n",
              "      <th>Pay_Sep</th>\n",
              "      <th>Pay_Aug</th>\n",
              "      <th>Pay_July</th>\n",
              "      <th>Pay_June</th>\n",
              "      <th>...</th>\n",
              "      <th>Bill_Amt_June</th>\n",
              "      <th>Bill_Amt_May</th>\n",
              "      <th>Bill_Amt_April</th>\n",
              "      <th>Pay_Amt_Sep</th>\n",
              "      <th>Pay_Amt_Aug</th>\n",
              "      <th>Pay_Amt_July</th>\n",
              "      <th>Pay_Amt_June</th>\n",
              "      <th>Pay_Amt_May</th>\n",
              "      <th>Pay_Amt_April</th>\n",
              "      <th>Default</th>\n",
              "    </tr>\n",
              "  </thead>\n",
              "  <tbody>\n",
              "    <tr>\n",
              "      <th>0</th>\n",
              "      <td>1</td>\n",
              "      <td>20000</td>\n",
              "      <td>2</td>\n",
              "      <td>2</td>\n",
              "      <td>1</td>\n",
              "      <td>24</td>\n",
              "      <td>2</td>\n",
              "      <td>2</td>\n",
              "      <td>-1</td>\n",
              "      <td>-1</td>\n",
              "      <td>...</td>\n",
              "      <td>0</td>\n",
              "      <td>0</td>\n",
              "      <td>0</td>\n",
              "      <td>0</td>\n",
              "      <td>689</td>\n",
              "      <td>0</td>\n",
              "      <td>0</td>\n",
              "      <td>0</td>\n",
              "      <td>0</td>\n",
              "      <td>1</td>\n",
              "    </tr>\n",
              "    <tr>\n",
              "      <th>1</th>\n",
              "      <td>2</td>\n",
              "      <td>120000</td>\n",
              "      <td>2</td>\n",
              "      <td>2</td>\n",
              "      <td>2</td>\n",
              "      <td>26</td>\n",
              "      <td>-1</td>\n",
              "      <td>2</td>\n",
              "      <td>0</td>\n",
              "      <td>0</td>\n",
              "      <td>...</td>\n",
              "      <td>3272</td>\n",
              "      <td>3455</td>\n",
              "      <td>3261</td>\n",
              "      <td>0</td>\n",
              "      <td>1000</td>\n",
              "      <td>1000</td>\n",
              "      <td>1000</td>\n",
              "      <td>0</td>\n",
              "      <td>2000</td>\n",
              "      <td>1</td>\n",
              "    </tr>\n",
              "    <tr>\n",
              "      <th>2</th>\n",
              "      <td>3</td>\n",
              "      <td>90000</td>\n",
              "      <td>2</td>\n",
              "      <td>2</td>\n",
              "      <td>2</td>\n",
              "      <td>34</td>\n",
              "      <td>0</td>\n",
              "      <td>0</td>\n",
              "      <td>0</td>\n",
              "      <td>0</td>\n",
              "      <td>...</td>\n",
              "      <td>14331</td>\n",
              "      <td>14948</td>\n",
              "      <td>15549</td>\n",
              "      <td>1518</td>\n",
              "      <td>1500</td>\n",
              "      <td>1000</td>\n",
              "      <td>1000</td>\n",
              "      <td>1000</td>\n",
              "      <td>5000</td>\n",
              "      <td>0</td>\n",
              "    </tr>\n",
              "    <tr>\n",
              "      <th>3</th>\n",
              "      <td>4</td>\n",
              "      <td>50000</td>\n",
              "      <td>2</td>\n",
              "      <td>2</td>\n",
              "      <td>1</td>\n",
              "      <td>37</td>\n",
              "      <td>0</td>\n",
              "      <td>0</td>\n",
              "      <td>0</td>\n",
              "      <td>0</td>\n",
              "      <td>...</td>\n",
              "      <td>28314</td>\n",
              "      <td>28959</td>\n",
              "      <td>29547</td>\n",
              "      <td>2000</td>\n",
              "      <td>2019</td>\n",
              "      <td>1200</td>\n",
              "      <td>1100</td>\n",
              "      <td>1069</td>\n",
              "      <td>1000</td>\n",
              "      <td>0</td>\n",
              "    </tr>\n",
              "    <tr>\n",
              "      <th>4</th>\n",
              "      <td>5</td>\n",
              "      <td>50000</td>\n",
              "      <td>1</td>\n",
              "      <td>2</td>\n",
              "      <td>1</td>\n",
              "      <td>57</td>\n",
              "      <td>-1</td>\n",
              "      <td>0</td>\n",
              "      <td>-1</td>\n",
              "      <td>0</td>\n",
              "      <td>...</td>\n",
              "      <td>20940</td>\n",
              "      <td>19146</td>\n",
              "      <td>19131</td>\n",
              "      <td>2000</td>\n",
              "      <td>36681</td>\n",
              "      <td>10000</td>\n",
              "      <td>9000</td>\n",
              "      <td>689</td>\n",
              "      <td>679</td>\n",
              "      <td>0</td>\n",
              "    </tr>\n",
              "  </tbody>\n",
              "</table>\n",
              "<p>5 rows × 25 columns</p>\n",
              "</div>\n",
              "      <button class=\"colab-df-convert\" onclick=\"convertToInteractive('df-1b0791ed-96f9-49cc-a07a-348746e48282')\"\n",
              "              title=\"Convert this dataframe to an interactive table.\"\n",
              "              style=\"display:none;\">\n",
              "        \n",
              "  <svg xmlns=\"http://www.w3.org/2000/svg\" height=\"24px\"viewBox=\"0 0 24 24\"\n",
              "       width=\"24px\">\n",
              "    <path d=\"M0 0h24v24H0V0z\" fill=\"none\"/>\n",
              "    <path d=\"M18.56 5.44l.94 2.06.94-2.06 2.06-.94-2.06-.94-.94-2.06-.94 2.06-2.06.94zm-11 1L8.5 8.5l.94-2.06 2.06-.94-2.06-.94L8.5 2.5l-.94 2.06-2.06.94zm10 10l.94 2.06.94-2.06 2.06-.94-2.06-.94-.94-2.06-.94 2.06-2.06.94z\"/><path d=\"M17.41 7.96l-1.37-1.37c-.4-.4-.92-.59-1.43-.59-.52 0-1.04.2-1.43.59L10.3 9.45l-7.72 7.72c-.78.78-.78 2.05 0 2.83L4 21.41c.39.39.9.59 1.41.59.51 0 1.02-.2 1.41-.59l7.78-7.78 2.81-2.81c.8-.78.8-2.07 0-2.86zM5.41 20L4 18.59l7.72-7.72 1.47 1.35L5.41 20z\"/>\n",
              "  </svg>\n",
              "      </button>\n",
              "      \n",
              "  <style>\n",
              "    .colab-df-container {\n",
              "      display:flex;\n",
              "      flex-wrap:wrap;\n",
              "      gap: 12px;\n",
              "    }\n",
              "\n",
              "    .colab-df-convert {\n",
              "      background-color: #E8F0FE;\n",
              "      border: none;\n",
              "      border-radius: 50%;\n",
              "      cursor: pointer;\n",
              "      display: none;\n",
              "      fill: #1967D2;\n",
              "      height: 32px;\n",
              "      padding: 0 0 0 0;\n",
              "      width: 32px;\n",
              "    }\n",
              "\n",
              "    .colab-df-convert:hover {\n",
              "      background-color: #E2EBFA;\n",
              "      box-shadow: 0px 1px 2px rgba(60, 64, 67, 0.3), 0px 1px 3px 1px rgba(60, 64, 67, 0.15);\n",
              "      fill: #174EA6;\n",
              "    }\n",
              "\n",
              "    [theme=dark] .colab-df-convert {\n",
              "      background-color: #3B4455;\n",
              "      fill: #D2E3FC;\n",
              "    }\n",
              "\n",
              "    [theme=dark] .colab-df-convert:hover {\n",
              "      background-color: #434B5C;\n",
              "      box-shadow: 0px 1px 3px 1px rgba(0, 0, 0, 0.15);\n",
              "      filter: drop-shadow(0px 1px 2px rgba(0, 0, 0, 0.3));\n",
              "      fill: #FFFFFF;\n",
              "    }\n",
              "  </style>\n",
              "\n",
              "      <script>\n",
              "        const buttonEl =\n",
              "          document.querySelector('#df-1b0791ed-96f9-49cc-a07a-348746e48282 button.colab-df-convert');\n",
              "        buttonEl.style.display =\n",
              "          google.colab.kernel.accessAllowed ? 'block' : 'none';\n",
              "\n",
              "        async function convertToInteractive(key) {\n",
              "          const element = document.querySelector('#df-1b0791ed-96f9-49cc-a07a-348746e48282');\n",
              "          const dataTable =\n",
              "            await google.colab.kernel.invokeFunction('convertToInteractive',\n",
              "                                                     [key], {});\n",
              "          if (!dataTable) return;\n",
              "\n",
              "          const docLinkHtml = 'Like what you see? Visit the ' +\n",
              "            '<a target=\"_blank\" href=https://colab.research.google.com/notebooks/data_table.ipynb>data table notebook</a>'\n",
              "            + ' to learn more about interactive tables.';\n",
              "          element.innerHTML = '';\n",
              "          dataTable['output_type'] = 'display_data';\n",
              "          await google.colab.output.renderOutput(dataTable, element);\n",
              "          const docLink = document.createElement('div');\n",
              "          docLink.innerHTML = docLinkHtml;\n",
              "          element.appendChild(docLink);\n",
              "        }\n",
              "      </script>\n",
              "    </div>\n",
              "  </div>\n",
              "  "
            ]
          },
          "metadata": {},
          "execution_count": 5
        }
      ]
    },
    {
      "cell_type": "code",
      "source": [
        "credit.info()"
      ],
      "metadata": {
        "colab": {
          "base_uri": "https://localhost:8080/"
        },
        "id": "CEVdwIS3-B8Q",
        "outputId": "21fe86d4-2657-4aaf-eaac-77eb4691f939"
      },
      "execution_count": null,
      "outputs": [
        {
          "output_type": "stream",
          "name": "stdout",
          "text": [
            "<class 'pandas.core.frame.DataFrame'>\n",
            "RangeIndex: 30000 entries, 0 to 29999\n",
            "Data columns (total 25 columns):\n",
            " #   Column          Non-Null Count  Dtype\n",
            "---  ------          --------------  -----\n",
            " 0   ID              30000 non-null  int64\n",
            " 1   Limit_Bal       30000 non-null  int64\n",
            " 2   Sex             30000 non-null  int64\n",
            " 3   Education       30000 non-null  int64\n",
            " 4   Marriage        30000 non-null  int64\n",
            " 5   Age             30000 non-null  int64\n",
            " 6   Pay_Sep         30000 non-null  int64\n",
            " 7   Pay_Aug         30000 non-null  int64\n",
            " 8   Pay_July        30000 non-null  int64\n",
            " 9   Pay_June        30000 non-null  int64\n",
            " 10  Pay_May         30000 non-null  int64\n",
            " 11  Pay_April       30000 non-null  int64\n",
            " 12  Bill_Amt_Sep    30000 non-null  int64\n",
            " 13  Bill_Amt_Aug    30000 non-null  int64\n",
            " 14  Bill_Amt_July   30000 non-null  int64\n",
            " 15  Bill_Amt_June   30000 non-null  int64\n",
            " 16  Bill_Amt_May    30000 non-null  int64\n",
            " 17  Bill_Amt_April  30000 non-null  int64\n",
            " 18  Pay_Amt_Sep     30000 non-null  int64\n",
            " 19  Pay_Amt_Aug     30000 non-null  int64\n",
            " 20  Pay_Amt_July    30000 non-null  int64\n",
            " 21  Pay_Amt_June    30000 non-null  int64\n",
            " 22  Pay_Amt_May     30000 non-null  int64\n",
            " 23  Pay_Amt_April   30000 non-null  int64\n",
            " 24  Default         30000 non-null  int64\n",
            "dtypes: int64(25)\n",
            "memory usage: 5.7 MB\n"
          ]
        }
      ]
    },
    {
      "cell_type": "markdown",
      "source": [
        "From the info above, we have 30,000 entries and 25 columns, with no missing values."
      ],
      "metadata": {
        "id": "zFk-d5iv6ml9"
      }
    },
    {
      "cell_type": "code",
      "source": [
        "credit.describe()"
      ],
      "metadata": {
        "colab": {
          "base_uri": "https://localhost:8080/",
          "height": 394
        },
        "id": "KeQ4u01j-F-n",
        "outputId": "fe52f357-9881-4b02-a32d-14aaa38ec875"
      },
      "execution_count": null,
      "outputs": [
        {
          "output_type": "execute_result",
          "data": {
            "text/plain": [
              "                 ID       Limit_Bal           Sex     Education      Marriage  \\\n",
              "count  30000.000000    30000.000000  30000.000000  30000.000000  30000.000000   \n",
              "mean   15000.500000   167484.322667      1.603733      1.853767      1.551867   \n",
              "std     8660.398374   129747.661567      0.489129      0.784391      0.521970   \n",
              "min        1.000000    10000.000000      1.000000      1.000000      0.000000   \n",
              "25%     7500.750000    50000.000000      1.000000      1.000000      1.000000   \n",
              "50%    15000.500000   140000.000000      2.000000      2.000000      2.000000   \n",
              "75%    22500.250000   240000.000000      2.000000      2.000000      2.000000   \n",
              "max    30000.000000  1000000.000000      2.000000      5.000000      3.000000   \n",
              "\n",
              "                Age       Pay_Sep       Pay_Aug      Pay_July      Pay_June  \\\n",
              "count  30000.000000  30000.000000  30000.000000  30000.000000  30000.000000   \n",
              "mean      35.485500     -0.016700     -0.133767     -0.166200     -0.220667   \n",
              "std        9.217904      1.123802      1.197186      1.196868      1.169139   \n",
              "min       21.000000     -2.000000     -2.000000     -2.000000     -2.000000   \n",
              "25%       28.000000     -1.000000     -1.000000     -1.000000     -1.000000   \n",
              "50%       34.000000      0.000000      0.000000      0.000000      0.000000   \n",
              "75%       41.000000      0.000000      0.000000      0.000000      0.000000   \n",
              "max       79.000000      8.000000      8.000000      8.000000      8.000000   \n",
              "\n",
              "       ...  Bill_Amt_June   Bill_Amt_May  Bill_Amt_April    Pay_Amt_Sep  \\\n",
              "count  ...   30000.000000   30000.000000    30000.000000   30000.000000   \n",
              "mean   ...   43262.948967   40311.400967    38871.760400    5663.580500   \n",
              "std    ...   64332.856134   60797.155770    59554.107537   16563.280354   \n",
              "min    ... -170000.000000  -81334.000000  -339603.000000       0.000000   \n",
              "25%    ...    2326.750000    1763.000000     1256.000000    1000.000000   \n",
              "50%    ...   19052.000000   18104.500000    17071.000000    2100.000000   \n",
              "75%    ...   54506.000000   50190.500000    49198.250000    5006.000000   \n",
              "max    ...  891586.000000  927171.000000   961664.000000  873552.000000   \n",
              "\n",
              "        Pay_Amt_Aug  Pay_Amt_July   Pay_Amt_June    Pay_Amt_May  \\\n",
              "count  3.000000e+04   30000.00000   30000.000000   30000.000000   \n",
              "mean   5.921163e+03    5225.68150    4826.076867    4799.387633   \n",
              "std    2.304087e+04   17606.96147   15666.159744   15278.305679   \n",
              "min    0.000000e+00       0.00000       0.000000       0.000000   \n",
              "25%    8.330000e+02     390.00000     296.000000     252.500000   \n",
              "50%    2.009000e+03    1800.00000    1500.000000    1500.000000   \n",
              "75%    5.000000e+03    4505.00000    4013.250000    4031.500000   \n",
              "max    1.684259e+06  896040.00000  621000.000000  426529.000000   \n",
              "\n",
              "       Pay_Amt_April       Default  \n",
              "count   30000.000000  30000.000000  \n",
              "mean     5215.502567      0.221200  \n",
              "std     17777.465775      0.415062  \n",
              "min         0.000000      0.000000  \n",
              "25%       117.750000      0.000000  \n",
              "50%      1500.000000      0.000000  \n",
              "75%      4000.000000      0.000000  \n",
              "max    528666.000000      1.000000  \n",
              "\n",
              "[8 rows x 25 columns]"
            ],
            "text/html": [
              "\n",
              "  <div id=\"df-57e52d50-4b59-4e0e-b6e1-c572949ca2df\">\n",
              "    <div class=\"colab-df-container\">\n",
              "      <div>\n",
              "<style scoped>\n",
              "    .dataframe tbody tr th:only-of-type {\n",
              "        vertical-align: middle;\n",
              "    }\n",
              "\n",
              "    .dataframe tbody tr th {\n",
              "        vertical-align: top;\n",
              "    }\n",
              "\n",
              "    .dataframe thead th {\n",
              "        text-align: right;\n",
              "    }\n",
              "</style>\n",
              "<table border=\"1\" class=\"dataframe\">\n",
              "  <thead>\n",
              "    <tr style=\"text-align: right;\">\n",
              "      <th></th>\n",
              "      <th>ID</th>\n",
              "      <th>Limit_Bal</th>\n",
              "      <th>Sex</th>\n",
              "      <th>Education</th>\n",
              "      <th>Marriage</th>\n",
              "      <th>Age</th>\n",
              "      <th>Pay_Sep</th>\n",
              "      <th>Pay_Aug</th>\n",
              "      <th>Pay_July</th>\n",
              "      <th>Pay_June</th>\n",
              "      <th>...</th>\n",
              "      <th>Bill_Amt_June</th>\n",
              "      <th>Bill_Amt_May</th>\n",
              "      <th>Bill_Amt_April</th>\n",
              "      <th>Pay_Amt_Sep</th>\n",
              "      <th>Pay_Amt_Aug</th>\n",
              "      <th>Pay_Amt_July</th>\n",
              "      <th>Pay_Amt_June</th>\n",
              "      <th>Pay_Amt_May</th>\n",
              "      <th>Pay_Amt_April</th>\n",
              "      <th>Default</th>\n",
              "    </tr>\n",
              "  </thead>\n",
              "  <tbody>\n",
              "    <tr>\n",
              "      <th>count</th>\n",
              "      <td>30000.000000</td>\n",
              "      <td>30000.000000</td>\n",
              "      <td>30000.000000</td>\n",
              "      <td>30000.000000</td>\n",
              "      <td>30000.000000</td>\n",
              "      <td>30000.000000</td>\n",
              "      <td>30000.000000</td>\n",
              "      <td>30000.000000</td>\n",
              "      <td>30000.000000</td>\n",
              "      <td>30000.000000</td>\n",
              "      <td>...</td>\n",
              "      <td>30000.000000</td>\n",
              "      <td>30000.000000</td>\n",
              "      <td>30000.000000</td>\n",
              "      <td>30000.000000</td>\n",
              "      <td>3.000000e+04</td>\n",
              "      <td>30000.00000</td>\n",
              "      <td>30000.000000</td>\n",
              "      <td>30000.000000</td>\n",
              "      <td>30000.000000</td>\n",
              "      <td>30000.000000</td>\n",
              "    </tr>\n",
              "    <tr>\n",
              "      <th>mean</th>\n",
              "      <td>15000.500000</td>\n",
              "      <td>167484.322667</td>\n",
              "      <td>1.603733</td>\n",
              "      <td>1.853767</td>\n",
              "      <td>1.551867</td>\n",
              "      <td>35.485500</td>\n",
              "      <td>-0.016700</td>\n",
              "      <td>-0.133767</td>\n",
              "      <td>-0.166200</td>\n",
              "      <td>-0.220667</td>\n",
              "      <td>...</td>\n",
              "      <td>43262.948967</td>\n",
              "      <td>40311.400967</td>\n",
              "      <td>38871.760400</td>\n",
              "      <td>5663.580500</td>\n",
              "      <td>5.921163e+03</td>\n",
              "      <td>5225.68150</td>\n",
              "      <td>4826.076867</td>\n",
              "      <td>4799.387633</td>\n",
              "      <td>5215.502567</td>\n",
              "      <td>0.221200</td>\n",
              "    </tr>\n",
              "    <tr>\n",
              "      <th>std</th>\n",
              "      <td>8660.398374</td>\n",
              "      <td>129747.661567</td>\n",
              "      <td>0.489129</td>\n",
              "      <td>0.784391</td>\n",
              "      <td>0.521970</td>\n",
              "      <td>9.217904</td>\n",
              "      <td>1.123802</td>\n",
              "      <td>1.197186</td>\n",
              "      <td>1.196868</td>\n",
              "      <td>1.169139</td>\n",
              "      <td>...</td>\n",
              "      <td>64332.856134</td>\n",
              "      <td>60797.155770</td>\n",
              "      <td>59554.107537</td>\n",
              "      <td>16563.280354</td>\n",
              "      <td>2.304087e+04</td>\n",
              "      <td>17606.96147</td>\n",
              "      <td>15666.159744</td>\n",
              "      <td>15278.305679</td>\n",
              "      <td>17777.465775</td>\n",
              "      <td>0.415062</td>\n",
              "    </tr>\n",
              "    <tr>\n",
              "      <th>min</th>\n",
              "      <td>1.000000</td>\n",
              "      <td>10000.000000</td>\n",
              "      <td>1.000000</td>\n",
              "      <td>1.000000</td>\n",
              "      <td>0.000000</td>\n",
              "      <td>21.000000</td>\n",
              "      <td>-2.000000</td>\n",
              "      <td>-2.000000</td>\n",
              "      <td>-2.000000</td>\n",
              "      <td>-2.000000</td>\n",
              "      <td>...</td>\n",
              "      <td>-170000.000000</td>\n",
              "      <td>-81334.000000</td>\n",
              "      <td>-339603.000000</td>\n",
              "      <td>0.000000</td>\n",
              "      <td>0.000000e+00</td>\n",
              "      <td>0.00000</td>\n",
              "      <td>0.000000</td>\n",
              "      <td>0.000000</td>\n",
              "      <td>0.000000</td>\n",
              "      <td>0.000000</td>\n",
              "    </tr>\n",
              "    <tr>\n",
              "      <th>25%</th>\n",
              "      <td>7500.750000</td>\n",
              "      <td>50000.000000</td>\n",
              "      <td>1.000000</td>\n",
              "      <td>1.000000</td>\n",
              "      <td>1.000000</td>\n",
              "      <td>28.000000</td>\n",
              "      <td>-1.000000</td>\n",
              "      <td>-1.000000</td>\n",
              "      <td>-1.000000</td>\n",
              "      <td>-1.000000</td>\n",
              "      <td>...</td>\n",
              "      <td>2326.750000</td>\n",
              "      <td>1763.000000</td>\n",
              "      <td>1256.000000</td>\n",
              "      <td>1000.000000</td>\n",
              "      <td>8.330000e+02</td>\n",
              "      <td>390.00000</td>\n",
              "      <td>296.000000</td>\n",
              "      <td>252.500000</td>\n",
              "      <td>117.750000</td>\n",
              "      <td>0.000000</td>\n",
              "    </tr>\n",
              "    <tr>\n",
              "      <th>50%</th>\n",
              "      <td>15000.500000</td>\n",
              "      <td>140000.000000</td>\n",
              "      <td>2.000000</td>\n",
              "      <td>2.000000</td>\n",
              "      <td>2.000000</td>\n",
              "      <td>34.000000</td>\n",
              "      <td>0.000000</td>\n",
              "      <td>0.000000</td>\n",
              "      <td>0.000000</td>\n",
              "      <td>0.000000</td>\n",
              "      <td>...</td>\n",
              "      <td>19052.000000</td>\n",
              "      <td>18104.500000</td>\n",
              "      <td>17071.000000</td>\n",
              "      <td>2100.000000</td>\n",
              "      <td>2.009000e+03</td>\n",
              "      <td>1800.00000</td>\n",
              "      <td>1500.000000</td>\n",
              "      <td>1500.000000</td>\n",
              "      <td>1500.000000</td>\n",
              "      <td>0.000000</td>\n",
              "    </tr>\n",
              "    <tr>\n",
              "      <th>75%</th>\n",
              "      <td>22500.250000</td>\n",
              "      <td>240000.000000</td>\n",
              "      <td>2.000000</td>\n",
              "      <td>2.000000</td>\n",
              "      <td>2.000000</td>\n",
              "      <td>41.000000</td>\n",
              "      <td>0.000000</td>\n",
              "      <td>0.000000</td>\n",
              "      <td>0.000000</td>\n",
              "      <td>0.000000</td>\n",
              "      <td>...</td>\n",
              "      <td>54506.000000</td>\n",
              "      <td>50190.500000</td>\n",
              "      <td>49198.250000</td>\n",
              "      <td>5006.000000</td>\n",
              "      <td>5.000000e+03</td>\n",
              "      <td>4505.00000</td>\n",
              "      <td>4013.250000</td>\n",
              "      <td>4031.500000</td>\n",
              "      <td>4000.000000</td>\n",
              "      <td>0.000000</td>\n",
              "    </tr>\n",
              "    <tr>\n",
              "      <th>max</th>\n",
              "      <td>30000.000000</td>\n",
              "      <td>1000000.000000</td>\n",
              "      <td>2.000000</td>\n",
              "      <td>5.000000</td>\n",
              "      <td>3.000000</td>\n",
              "      <td>79.000000</td>\n",
              "      <td>8.000000</td>\n",
              "      <td>8.000000</td>\n",
              "      <td>8.000000</td>\n",
              "      <td>8.000000</td>\n",
              "      <td>...</td>\n",
              "      <td>891586.000000</td>\n",
              "      <td>927171.000000</td>\n",
              "      <td>961664.000000</td>\n",
              "      <td>873552.000000</td>\n",
              "      <td>1.684259e+06</td>\n",
              "      <td>896040.00000</td>\n",
              "      <td>621000.000000</td>\n",
              "      <td>426529.000000</td>\n",
              "      <td>528666.000000</td>\n",
              "      <td>1.000000</td>\n",
              "    </tr>\n",
              "  </tbody>\n",
              "</table>\n",
              "<p>8 rows × 25 columns</p>\n",
              "</div>\n",
              "      <button class=\"colab-df-convert\" onclick=\"convertToInteractive('df-57e52d50-4b59-4e0e-b6e1-c572949ca2df')\"\n",
              "              title=\"Convert this dataframe to an interactive table.\"\n",
              "              style=\"display:none;\">\n",
              "        \n",
              "  <svg xmlns=\"http://www.w3.org/2000/svg\" height=\"24px\"viewBox=\"0 0 24 24\"\n",
              "       width=\"24px\">\n",
              "    <path d=\"M0 0h24v24H0V0z\" fill=\"none\"/>\n",
              "    <path d=\"M18.56 5.44l.94 2.06.94-2.06 2.06-.94-2.06-.94-.94-2.06-.94 2.06-2.06.94zm-11 1L8.5 8.5l.94-2.06 2.06-.94-2.06-.94L8.5 2.5l-.94 2.06-2.06.94zm10 10l.94 2.06.94-2.06 2.06-.94-2.06-.94-.94-2.06-.94 2.06-2.06.94z\"/><path d=\"M17.41 7.96l-1.37-1.37c-.4-.4-.92-.59-1.43-.59-.52 0-1.04.2-1.43.59L10.3 9.45l-7.72 7.72c-.78.78-.78 2.05 0 2.83L4 21.41c.39.39.9.59 1.41.59.51 0 1.02-.2 1.41-.59l7.78-7.78 2.81-2.81c.8-.78.8-2.07 0-2.86zM5.41 20L4 18.59l7.72-7.72 1.47 1.35L5.41 20z\"/>\n",
              "  </svg>\n",
              "      </button>\n",
              "      \n",
              "  <style>\n",
              "    .colab-df-container {\n",
              "      display:flex;\n",
              "      flex-wrap:wrap;\n",
              "      gap: 12px;\n",
              "    }\n",
              "\n",
              "    .colab-df-convert {\n",
              "      background-color: #E8F0FE;\n",
              "      border: none;\n",
              "      border-radius: 50%;\n",
              "      cursor: pointer;\n",
              "      display: none;\n",
              "      fill: #1967D2;\n",
              "      height: 32px;\n",
              "      padding: 0 0 0 0;\n",
              "      width: 32px;\n",
              "    }\n",
              "\n",
              "    .colab-df-convert:hover {\n",
              "      background-color: #E2EBFA;\n",
              "      box-shadow: 0px 1px 2px rgba(60, 64, 67, 0.3), 0px 1px 3px 1px rgba(60, 64, 67, 0.15);\n",
              "      fill: #174EA6;\n",
              "    }\n",
              "\n",
              "    [theme=dark] .colab-df-convert {\n",
              "      background-color: #3B4455;\n",
              "      fill: #D2E3FC;\n",
              "    }\n",
              "\n",
              "    [theme=dark] .colab-df-convert:hover {\n",
              "      background-color: #434B5C;\n",
              "      box-shadow: 0px 1px 3px 1px rgba(0, 0, 0, 0.15);\n",
              "      filter: drop-shadow(0px 1px 2px rgba(0, 0, 0, 0.3));\n",
              "      fill: #FFFFFF;\n",
              "    }\n",
              "  </style>\n",
              "\n",
              "      <script>\n",
              "        const buttonEl =\n",
              "          document.querySelector('#df-57e52d50-4b59-4e0e-b6e1-c572949ca2df button.colab-df-convert');\n",
              "        buttonEl.style.display =\n",
              "          google.colab.kernel.accessAllowed ? 'block' : 'none';\n",
              "\n",
              "        async function convertToInteractive(key) {\n",
              "          const element = document.querySelector('#df-57e52d50-4b59-4e0e-b6e1-c572949ca2df');\n",
              "          const dataTable =\n",
              "            await google.colab.kernel.invokeFunction('convertToInteractive',\n",
              "                                                     [key], {});\n",
              "          if (!dataTable) return;\n",
              "\n",
              "          const docLinkHtml = 'Like what you see? Visit the ' +\n",
              "            '<a target=\"_blank\" href=https://colab.research.google.com/notebooks/data_table.ipynb>data table notebook</a>'\n",
              "            + ' to learn more about interactive tables.';\n",
              "          element.innerHTML = '';\n",
              "          dataTable['output_type'] = 'display_data';\n",
              "          await google.colab.output.renderOutput(dataTable, element);\n",
              "          const docLink = document.createElement('div');\n",
              "          docLink.innerHTML = docLinkHtml;\n",
              "          element.appendChild(docLink);\n",
              "        }\n",
              "      </script>\n",
              "    </div>\n",
              "  </div>\n",
              "  "
            ]
          },
          "metadata": {},
          "execution_count": 7
        }
      ]
    },
    {
      "cell_type": "markdown",
      "source": [
        "The column 'ID' is dropped since it won't be needed in the analysis."
      ],
      "metadata": {
        "id": "f0h9BaNSDtUU"
      }
    },
    {
      "cell_type": "code",
      "source": [
        "credit = credit.drop('ID', axis = 1)"
      ],
      "metadata": {
        "id": "VgwhWMcC956X"
      },
      "execution_count": null,
      "outputs": []
    },
    {
      "cell_type": "markdown",
      "source": [
        "Duplicates are checked in the code below. It can be confirmed there are no missing values or duplicated entries."
      ],
      "metadata": {
        "id": "6ixnTJvH6yd_"
      }
    },
    {
      "cell_type": "code",
      "source": [
        "credit.duplicated().sum()"
      ],
      "metadata": {
        "colab": {
          "base_uri": "https://localhost:8080/"
        },
        "id": "Z1PqYnvI-N8_",
        "outputId": "c63af8a6-1395-413c-9ece-2b41ffe198d7"
      },
      "execution_count": null,
      "outputs": [
        {
          "output_type": "execute_result",
          "data": {
            "text/plain": [
              "35"
            ]
          },
          "metadata": {},
          "execution_count": 9
        }
      ]
    },
    {
      "cell_type": "code",
      "source": [
        "credit = credit.drop_duplicates()"
      ],
      "metadata": {
        "id": "bjZsjV_HCSuZ"
      },
      "execution_count": null,
      "outputs": []
    },
    {
      "cell_type": "markdown",
      "source": [
        "Next, distribution plots are used to see if the data is normalized. From the two plots run below, it is clear the data is not normalized. The values will need to be scaled for accuracy. This will be done at a later point."
      ],
      "metadata": {
        "id": "OpAJaX0p7GjZ"
      }
    },
    {
      "cell_type": "code",
      "source": [
        "sns.displot(credit['Age'], bins = 20, kde = True)"
      ],
      "metadata": {
        "colab": {
          "base_uri": "https://localhost:8080/",
          "height": 387
        },
        "id": "BScmPvv0rsDn",
        "outputId": "c88ee963-3b56-45ab-cd96-fb781c2c22d4"
      },
      "execution_count": null,
      "outputs": [
        {
          "output_type": "execute_result",
          "data": {
            "text/plain": [
              "<seaborn.axisgrid.FacetGrid at 0x7f626f0c2dc0>"
            ]
          },
          "metadata": {},
          "execution_count": 11
        },
        {
          "output_type": "display_data",
          "data": {
            "text/plain": [
              "<Figure size 360x360 with 1 Axes>"
            ],
            "image/png": "[encoded data removed]"
          },
          "metadata": {}
        }
      ]
    },
    {
      "cell_type": "code",
      "source": [
        "sns.displot(credit['Bill_Amt_June'], bins = 30, kde = True)"
      ],
      "metadata": {
        "colab": {
          "base_uri": "https://localhost:8080/",
          "height": 387
        },
        "id": "ji8Ofkm1dwJH",
        "outputId": "2d37e94f-2b1b-412f-aa51-f489b8afd13d"
      },
      "execution_count": null,
      "outputs": [
        {
          "output_type": "execute_result",
          "data": {
            "text/plain": [
              "<seaborn.axisgrid.FacetGrid at 0x7f626c77d6a0>"
            ]
          },
          "metadata": {},
          "execution_count": 12
        },
        {
          "output_type": "display_data",
          "data": {
            "text/plain": [
              "<Figure size 360x360 with 1 Axes>"
            ],
            "image/png": "[encoded data removed]"
          },
          "metadata": {}
        }
      ]
    },
    {
      "cell_type": "code",
      "source": [
        "sns.displot(credit['Pay_Amt_April'], bins = 30, kde = True)"
      ],
      "metadata": {
        "colab": {
          "base_uri": "https://localhost:8080/",
          "height": 387
        },
        "id": "PhVKU8uXOQj1",
        "outputId": "6478c8a0-ba47-4fed-9b2b-155dc3fa0a5a"
      },
      "execution_count": null,
      "outputs": [
        {
          "output_type": "execute_result",
          "data": {
            "text/plain": [
              "<seaborn.axisgrid.FacetGrid at 0x7f626c24f7c0>"
            ]
          },
          "metadata": {},
          "execution_count": 13
        },
        {
          "output_type": "display_data",
          "data": {
            "text/plain": [
              "<Figure size 360x360 with 1 Axes>"
            ],
            "image/png": "[encoded data removed]"
          },
          "metadata": {}
        }
      ]
    },
    {
      "cell_type": "markdown",
      "source": [
        "A correlation heatmap is created to see the relationships between the variables."
      ],
      "metadata": {
        "id": "7Wyq8R-KDVgs"
      }
    },
    {
      "cell_type": "code",
      "source": [
        "plt.figure(figsize = (12,8))\n",
        "sns.heatmap(credit.corr(), cmap = 'viridis')"
      ],
      "metadata": {
        "colab": {
          "base_uri": "https://localhost:8080/",
          "height": 566
        },
        "id": "MFJeS5xK9l5M",
        "outputId": "135efd65-1d0a-4ed0-bfe3-1100b25c0792"
      },
      "execution_count": null,
      "outputs": [
        {
          "output_type": "execute_result",
          "data": {
            "text/plain": [
              "<matplotlib.axes._subplots.AxesSubplot at 0x7f626c24bfd0>"
            ]
          },
          "metadata": {},
          "execution_count": 14
        },
        {
          "output_type": "display_data",
          "data": {
            "text/plain": [
              "<Figure size 864x576 with 2 Axes>"
            ],
            "image/png": "[encoded data removed]"
          },
          "metadata": {}
        }
      ]
    },
    {
      "cell_type": "markdown",
      "source": [
        "Countplots are created to see distribution between the sex, education, and marriage status variables."
      ],
      "metadata": {
        "id": "b_skncZODjai"
      }
    },
    {
      "cell_type": "code",
      "source": [
        "sns.countplot(x = 'Sex', data= credit, palette = 'viridis')"
      ],
      "metadata": {
        "id": "l_y2PDyP-wAQ",
        "colab": {
          "base_uri": "https://localhost:8080/",
          "height": 297
        },
        "outputId": "62dbd7e3-2658-4c86-d935-03581da18fb7"
      },
      "execution_count": null,
      "outputs": [
        {
          "output_type": "execute_result",
          "data": {
            "text/plain": [
              "<matplotlib.axes._subplots.AxesSubplot at 0x7f626c1002b0>"
            ]
          },
          "metadata": {},
          "execution_count": 15
        },
        {
          "output_type": "display_data",
          "data": {
            "text/plain": [
              "<Figure size 432x288 with 1 Axes>"
            ],
            "image/png": "[encoded data removed]"
          },
          "metadata": {}
        }
      ]
    },
    {
      "cell_type": "code",
      "source": [
        "credit['Sex'].value_counts()"
      ],
      "metadata": {
        "colab": {
          "base_uri": "https://localhost:8080/"
        },
        "id": "dRxr8TFHNNQX",
        "outputId": "9f2d901d-27e2-4dd1-b517-a99674955b8a"
      },
      "execution_count": null,
      "outputs": [
        {
          "output_type": "execute_result",
          "data": {
            "text/plain": [
              "2    18091\n",
              "1    11874\n",
              "Name: Sex, dtype: int64"
            ]
          },
          "metadata": {},
          "execution_count": 16
        }
      ]
    },
    {
      "cell_type": "code",
      "source": [
        "sns.countplot(x = 'Sex', data = credit, palette = 'viridis', hue = 'Default')"
      ],
      "metadata": {
        "colab": {
          "base_uri": "https://localhost:8080/",
          "height": 297
        },
        "id": "HghbgOqWNrr7",
        "outputId": "e60a7c94-f064-44d7-9b1a-02d367cae0d4"
      },
      "execution_count": null,
      "outputs": [
        {
          "output_type": "execute_result",
          "data": {
            "text/plain": [
              "<matplotlib.axes._subplots.AxesSubplot at 0x7f626c113700>"
            ]
          },
          "metadata": {},
          "execution_count": 17
        },
        {
          "output_type": "display_data",
          "data": {
            "text/plain": [
              "<Figure size 432x288 with 1 Axes>"
            ],
            "image/png": "[encoded data removed]"
          },
          "metadata": {}
        }
      ]
    },
    {
      "cell_type": "code",
      "source": [
        "credit['Education'].value_counts()"
      ],
      "metadata": {
        "colab": {
          "base_uri": "https://localhost:8080/"
        },
        "id": "7n4E0kGVNdxV",
        "outputId": "12bae4db-5dd7-4914-b9b3-2803f522c986"
      },
      "execution_count": null,
      "outputs": [
        {
          "output_type": "execute_result",
          "data": {
            "text/plain": [
              "2    14019\n",
              "1    10563\n",
              "3     4915\n",
              "5      345\n",
              "4      123\n",
              "Name: Education, dtype: int64"
            ]
          },
          "metadata": {},
          "execution_count": 18
        }
      ]
    },
    {
      "cell_type": "code",
      "source": [
        "sns.countplot(x ='Education', data = credit, palette = 'bright')"
      ],
      "metadata": {
        "colab": {
          "base_uri": "https://localhost:8080/",
          "height": 297
        },
        "id": "UwocY8KDXmxI",
        "outputId": "41987a5f-73d2-4f57-ef17-6f76d5d6a765"
      },
      "execution_count": null,
      "outputs": [
        {
          "output_type": "execute_result",
          "data": {
            "text/plain": [
              "<matplotlib.axes._subplots.AxesSubplot at 0x7f626bfdb130>"
            ]
          },
          "metadata": {},
          "execution_count": 19
        },
        {
          "output_type": "display_data",
          "data": {
            "text/plain": [
              "<Figure size 432x288 with 1 Axes>"
            ],
            "image/png": "[encoded data removed]"
          },
          "metadata": {}
        }
      ]
    },
    {
      "cell_type": "code",
      "source": [
        "sns.countplot(x = 'Education', data = credit, palette = 'bright', hue = 'Default')"
      ],
      "metadata": {
        "id": "RbI1wdfw_SFV",
        "colab": {
          "base_uri": "https://localhost:8080/",
          "height": 297
        },
        "outputId": "151fdaf7-d96c-4444-c4f6-8d613fcae93b"
      },
      "execution_count": null,
      "outputs": [
        {
          "output_type": "execute_result",
          "data": {
            "text/plain": [
              "<matplotlib.axes._subplots.AxesSubplot at 0x7f626c036b20>"
            ]
          },
          "metadata": {},
          "execution_count": 20
        },
        {
          "output_type": "display_data",
          "data": {
            "text/plain": [
              "<Figure size 432x288 with 1 Axes>"
            ],
            "image/png": "[encoded data removed]"
          },
          "metadata": {}
        }
      ]
    },
    {
      "cell_type": "code",
      "source": [
        "credit['Marriage'].value_counts()"
      ],
      "metadata": {
        "colab": {
          "base_uri": "https://localhost:8080/"
        },
        "id": "zy_D1lPoBgi4",
        "outputId": "1faa8e33-abed-445b-8d9a-51e2603c0d0c"
      },
      "execution_count": null,
      "outputs": [
        {
          "output_type": "execute_result",
          "data": {
            "text/plain": [
              "2    15945\n",
              "1    13643\n",
              "3      323\n",
              "0       54\n",
              "Name: Marriage, dtype: int64"
            ]
          },
          "metadata": {},
          "execution_count": 21
        }
      ]
    },
    {
      "cell_type": "code",
      "source": [
        "sns.countplot(x = 'Marriage', data = credit, palette = 'rocket')"
      ],
      "metadata": {
        "colab": {
          "base_uri": "https://localhost:8080/",
          "height": 297
        },
        "id": "8HlKL_9FPTMI",
        "outputId": "b7e367ac-be91-4415-cb4c-c30c5d2f6e01"
      },
      "execution_count": null,
      "outputs": [
        {
          "output_type": "execute_result",
          "data": {
            "text/plain": [
              "<matplotlib.axes._subplots.AxesSubplot at 0x7f626bf24100>"
            ]
          },
          "metadata": {},
          "execution_count": 22
        },
        {
          "output_type": "display_data",
          "data": {
            "text/plain": [
              "<Figure size 432x288 with 1 Axes>"
            ],
            "image/png": "[encoded data removed]"
          },
          "metadata": {}
        }
      ]
    },
    {
      "cell_type": "code",
      "source": [
        "sns.countplot(x = 'Marriage', data = credit, palette = 'rocket', hue = 'Default')"
      ],
      "metadata": {
        "colab": {
          "base_uri": "https://localhost:8080/",
          "height": 297
        },
        "id": "ZhO-rWX9XuYm",
        "outputId": "ffec0eb8-e4eb-4160-f1a8-f6a2ff4e7748"
      },
      "execution_count": null,
      "outputs": [
        {
          "output_type": "execute_result",
          "data": {
            "text/plain": [
              "<matplotlib.axes._subplots.AxesSubplot at 0x7f626bef4940>"
            ]
          },
          "metadata": {},
          "execution_count": 23
        },
        {
          "output_type": "display_data",
          "data": {
            "text/plain": [
              "<Figure size 432x288 with 1 Axes>"
            ],
            "image/png": "[encoded data removed]"
          },
          "metadata": {}
        }
      ]
    },
    {
      "cell_type": "markdown",
      "source": [
        "## **A Brief Look Into Outliers**"
      ],
      "metadata": {
        "id": "AiG6HBoylo7v"
      }
    },
    {
      "cell_type": "markdown",
      "source": [
        "From the above distribution plots, there appear to be outliers in the data. One way to see if there are outliers is to use box plots. A box plot is done for the amount of credit given (Limit_Bal) and the pay amount in April. "
      ],
      "metadata": {
        "id": "bCc_C95SB1ax"
      }
    },
    {
      "cell_type": "code",
      "source": [
        "sns.boxplot(x = 'Limit_Bal', data = credit)"
      ],
      "metadata": {
        "colab": {
          "base_uri": "https://localhost:8080/",
          "height": 298
        },
        "id": "8PiJsQDTJOEX",
        "outputId": "a58101bc-8d4e-405c-d6a3-9b136376a564"
      },
      "execution_count": null,
      "outputs": [
        {
          "output_type": "execute_result",
          "data": {
            "text/plain": [
              "<matplotlib.axes._subplots.AxesSubplot at 0x7f626c040b80>"
            ]
          },
          "metadata": {},
          "execution_count": 24
        },
        {
          "output_type": "display_data",
          "data": {
            "text/plain": [
              "<Figure size 432x288 with 1 Axes>"
            ],
            "image/png": "[encoded data removed]"
          },
          "metadata": {}
        }
      ]
    },
    {
      "cell_type": "code",
      "source": [
        "sns.boxplot(x = 'Pay_Amt_April', data = credit)"
      ],
      "metadata": {
        "colab": {
          "base_uri": "https://localhost:8080/",
          "height": 298
        },
        "id": "QxnJIQ6-Jfju",
        "outputId": "df32df56-e9d0-4d82-b71b-3feaea21c4eb"
      },
      "execution_count": null,
      "outputs": [
        {
          "output_type": "execute_result",
          "data": {
            "text/plain": [
              "<matplotlib.axes._subplots.AxesSubplot at 0x7f626bde0220>"
            ]
          },
          "metadata": {},
          "execution_count": 25
        },
        {
          "output_type": "display_data",
          "data": {
            "text/plain": [
              "<Figure size 432x288 with 1 Axes>"
            ],
            "image/png": "[encoded data removed]"
          },
          "metadata": {}
        }
      ]
    },
    {
      "cell_type": "markdown",
      "source": [
        "There appears to be quite a few outliers for the amount of credit given past 0.6 (600,000) and the pay amount for April above 50,000. These are most likely rare occurences of very wealthy individuals or for business purposes. To remove some of these outliers, the dataframe is redone with the limit balance capped at 550,000 and the pay amount for April capped at 50,000. "
      ],
      "metadata": {
        "id": "xnI_9ZdzCLJO"
      }
    },
    {
      "cell_type": "code",
      "source": [
        "credit = credit[(credit['Limit_Bal'] <= 550000) & (credit['Pay_Amt_April'] <= 50000)]"
      ],
      "metadata": {
        "id": "mNSQ9yrLK9Fv"
      },
      "execution_count": null,
      "outputs": []
    },
    {
      "cell_type": "markdown",
      "source": [
        "The updated dataframe is viewed to see how many participants are remaining, which appears to be 29,327 entries left. In total, about 2.24% of the original data was removed."
      ],
      "metadata": {
        "id": "naJFiYgyC04W"
      }
    },
    {
      "cell_type": "code",
      "source": [
        "credit.info()"
      ],
      "metadata": {
        "colab": {
          "base_uri": "https://localhost:8080/"
        },
        "id": "nQfQ2_lOMEy7",
        "outputId": "d3db1c82-b85a-4a08-bd87-dd547c4956b2"
      },
      "execution_count": null,
      "outputs": [
        {
          "output_type": "stream",
          "name": "stdout",
          "text": [
            "<class 'pandas.core.frame.DataFrame'>\n",
            "Int64Index: 29327 entries, 0 to 29999\n",
            "Data columns (total 24 columns):\n",
            " #   Column          Non-Null Count  Dtype\n",
            "---  ------          --------------  -----\n",
            " 0   Limit_Bal       29327 non-null  int64\n",
            " 1   Sex             29327 non-null  int64\n",
            " 2   Education       29327 non-null  int64\n",
            " 3   Marriage        29327 non-null  int64\n",
            " 4   Age             29327 non-null  int64\n",
            " 5   Pay_Sep         29327 non-null  int64\n",
            " 6   Pay_Aug         29327 non-null  int64\n",
            " 7   Pay_July        29327 non-null  int64\n",
            " 8   Pay_June        29327 non-null  int64\n",
            " 9   Pay_May         29327 non-null  int64\n",
            " 10  Pay_April       29327 non-null  int64\n",
            " 11  Bill_Amt_Sep    29327 non-null  int64\n",
            " 12  Bill_Amt_Aug    29327 non-null  int64\n",
            " 13  Bill_Amt_July   29327 non-null  int64\n",
            " 14  Bill_Amt_June   29327 non-null  int64\n",
            " 15  Bill_Amt_May    29327 non-null  int64\n",
            " 16  Bill_Amt_April  29327 non-null  int64\n",
            " 17  Pay_Amt_Sep     29327 non-null  int64\n",
            " 18  Pay_Amt_Aug     29327 non-null  int64\n",
            " 19  Pay_Amt_July    29327 non-null  int64\n",
            " 20  Pay_Amt_June    29327 non-null  int64\n",
            " 21  Pay_Amt_May     29327 non-null  int64\n",
            " 22  Pay_Amt_April   29327 non-null  int64\n",
            " 23  Default         29327 non-null  int64\n",
            "dtypes: int64(24)\n",
            "memory usage: 5.6 MB\n"
          ]
        }
      ]
    },
    {
      "cell_type": "markdown",
      "source": [
        "New box plots are run to see the distribution for amount of credit given and pay amount in April:"
      ],
      "metadata": {
        "id": "D4SIkUhZED1F"
      }
    },
    {
      "cell_type": "code",
      "source": [
        "sns.boxplot(x = 'Limit_Bal', data = credit)"
      ],
      "metadata": {
        "colab": {
          "base_uri": "https://localhost:8080/",
          "height": 298
        },
        "id": "42eLR_5DLn67",
        "outputId": "cb8e765f-93f6-475f-8895-761bd6417d1c"
      },
      "execution_count": null,
      "outputs": [
        {
          "output_type": "execute_result",
          "data": {
            "text/plain": [
              "<matplotlib.axes._subplots.AxesSubplot at 0x7f626bdb0b20>"
            ]
          },
          "metadata": {},
          "execution_count": 28
        },
        {
          "output_type": "display_data",
          "data": {
            "text/plain": [
              "<Figure size 432x288 with 1 Axes>"
            ],
            "image/png": "[encoded data removed]"
          },
          "metadata": {}
        }
      ]
    },
    {
      "cell_type": "code",
      "source": [
        "sns.boxplot(x = 'Pay_Amt_April', data = credit)"
      ],
      "metadata": {
        "colab": {
          "base_uri": "https://localhost:8080/",
          "height": 298
        },
        "id": "WGhZOJY8LuCX",
        "outputId": "f41a7dfc-c9da-4775-fc92-92c13b5fd7c0"
      },
      "execution_count": null,
      "outputs": [
        {
          "output_type": "execute_result",
          "data": {
            "text/plain": [
              "<matplotlib.axes._subplots.AxesSubplot at 0x7f626bd83790>"
            ]
          },
          "metadata": {},
          "execution_count": 29
        },
        {
          "output_type": "display_data",
          "data": {
            "text/plain": [
              "<Figure size 432x288 with 1 Axes>"
            ],
            "image/png": "[encoded data removed]"
          },
          "metadata": {}
        }
      ]
    },
    {
      "cell_type": "markdown",
      "source": [
        "There appears to still be outliers for the pay amount in April. However, this would require a more in-depth analysis to determine the outliers. Since this is a smaller session, I will continue on with the predictive models based on the most updated dataframe. "
      ],
      "metadata": {
        "id": "bF1GA7JXENAI"
      }
    },
    {
      "cell_type": "markdown",
      "source": [
        "## **Training and Scaling the Data**"
      ],
      "metadata": {
        "id": "1xwD8tkNNC1f"
      }
    },
    {
      "cell_type": "markdown",
      "source": [
        "As stated above, the data needs to be scaled to assist with standardizing the data. Below, all variables are scaled except for Default, since the goal is to attempt to predict whether a client will default on their credit card. The data is viewed with the new scaled data."
      ],
      "metadata": {
        "id": "veGiP0S6EFLu"
      }
    },
    {
      "cell_type": "code",
      "source": [
        "scaler = StandardScaler()\n",
        "scaler.fit(credit.drop('Default', axis = 1))"
      ],
      "metadata": {
        "colab": {
          "base_uri": "https://localhost:8080/"
        },
        "id": "khkmrlMRNnEC",
        "outputId": "7108db67-0794-4e48-d14a-46400e46616a"
      },
      "execution_count": null,
      "outputs": [
        {
          "output_type": "execute_result",
          "data": {
            "text/plain": [
              "StandardScaler()"
            ]
          },
          "metadata": {},
          "execution_count": 30
        }
      ]
    },
    {
      "cell_type": "code",
      "source": [
        "scaled_data = scaler.transform(credit.drop('Default', axis = 1))"
      ],
      "metadata": {
        "id": "GqUR1LUEOaHj"
      },
      "execution_count": null,
      "outputs": []
    },
    {
      "cell_type": "code",
      "source": [
        "credit_feat = pd.DataFrame(scaled_data, columns = credit.columns[:-1])\n",
        "credit_feat.head()"
      ],
      "metadata": {
        "id": "FWaRnh0uQY7M",
        "colab": {
          "base_uri": "https://localhost:8080/",
          "height": 299
        },
        "outputId": "5eee0d2f-10ce-481d-cc8c-2d828e63450c"
      },
      "execution_count": null,
      "outputs": [
        {
          "output_type": "execute_result",
          "data": {
            "text/plain": [
              "   Limit_Bal       Sex  Education  Marriage       Age   Pay_Sep   Pay_Aug  \\\n",
              "0  -1.145938  0.808931   0.181833 -1.056759 -1.241323  1.789316  1.773333   \n",
              "1  -0.345691  0.808931   0.181833  0.857601 -1.024683 -0.881770  1.773333   \n",
              "2  -0.585765  0.808931   0.181833  0.857601 -0.158120  0.008592  0.105013   \n",
              "3  -0.905864  0.808931   0.181833 -1.056759  0.166841  0.008592  0.105013   \n",
              "4  -0.905864 -1.236200   0.181833 -1.056759  2.333247 -0.881770  0.105013   \n",
              "\n",
              "   Pay_July  Pay_June   Pay_May  ...  Bill_Amt_July  Bill_Amt_June  \\\n",
              "0 -0.701946 -0.670775 -1.531718  ...      -0.674654      -0.680832   \n",
              "1  0.131865  0.182037  0.228359  ...      -0.644949      -0.628190   \n",
              "2  0.131865  0.182037  0.228359  ...      -0.482834      -0.450267   \n",
              "3  0.131865  0.182037  0.228359  ...       0.049729      -0.225300   \n",
              "4 -0.701946  0.182037  0.228359  ...      -0.150824      -0.343937   \n",
              "\n",
              "   Bill_Amt_May  Bill_Amt_April  Pay_Amt_Sep  Pay_Amt_Aug  Pay_Amt_July  \\\n",
              "0     -0.671624       -0.663706    -0.364728    -0.231728     -0.325459   \n",
              "1     -0.612902       -0.607288    -0.364728    -0.216941     -0.258931   \n",
              "2     -0.417562       -0.394695    -0.260885    -0.193169     -0.258931   \n",
              "3     -0.179425       -0.152519    -0.227912    -0.168493     -0.245626   \n",
              "4     -0.346211       -0.332724    -0.227912     1.479504      0.339819   \n",
              "\n",
              "   Pay_Amt_June  Pay_Amt_May  Pay_Amt_April  \n",
              "0     -0.318327    -0.315232      -0.570660  \n",
              "1     -0.248680    -0.315232      -0.224495  \n",
              "2     -0.248680    -0.245605       0.294753  \n",
              "3     -0.241715    -0.240800      -0.397577  \n",
              "4      0.308495    -0.267259      -0.453137  \n",
              "\n",
              "[5 rows x 23 columns]"
            ],
            "text/html": [
              "\n",
              "  <div id=\"df-b93d9a49-b86f-4280-aba2-118dd8912455\">\n",
              "    <div class=\"colab-df-container\">\n",
              "      <div>\n",
              "<style scoped>\n",
              "    .dataframe tbody tr th:only-of-type {\n",
              "        vertical-align: middle;\n",
              "    }\n",
              "\n",
              "    .dataframe tbody tr th {\n",
              "        vertical-align: top;\n",
              "    }\n",
              "\n",
              "    .dataframe thead th {\n",
              "        text-align: right;\n",
              "    }\n",
              "</style>\n",
              "<table border=\"1\" class=\"dataframe\">\n",
              "  <thead>\n",
              "    <tr style=\"text-align: right;\">\n",
              "      <th></th>\n",
              "      <th>Limit_Bal</th>\n",
              "      <th>Sex</th>\n",
              "      <th>Education</th>\n",
              "      <th>Marriage</th>\n",
              "      <th>Age</th>\n",
              "      <th>Pay_Sep</th>\n",
              "      <th>Pay_Aug</th>\n",
              "      <th>Pay_July</th>\n",
              "      <th>Pay_June</th>\n",
              "      <th>Pay_May</th>\n",
              "      <th>...</th>\n",
              "      <th>Bill_Amt_July</th>\n",
              "      <th>Bill_Amt_June</th>\n",
              "      <th>Bill_Amt_May</th>\n",
              "      <th>Bill_Amt_April</th>\n",
              "      <th>Pay_Amt_Sep</th>\n",
              "      <th>Pay_Amt_Aug</th>\n",
              "      <th>Pay_Amt_July</th>\n",
              "      <th>Pay_Amt_June</th>\n",
              "      <th>Pay_Amt_May</th>\n",
              "      <th>Pay_Amt_April</th>\n",
              "    </tr>\n",
              "  </thead>\n",
              "  <tbody>\n",
              "    <tr>\n",
              "      <th>0</th>\n",
              "      <td>-1.145938</td>\n",
              "      <td>0.808931</td>\n",
              "      <td>0.181833</td>\n",
              "      <td>-1.056759</td>\n",
              "      <td>-1.241323</td>\n",
              "      <td>1.789316</td>\n",
              "      <td>1.773333</td>\n",
              "      <td>-0.701946</td>\n",
              "      <td>-0.670775</td>\n",
              "      <td>-1.531718</td>\n",
              "      <td>...</td>\n",
              "      <td>-0.674654</td>\n",
              "      <td>-0.680832</td>\n",
              "      <td>-0.671624</td>\n",
              "      <td>-0.663706</td>\n",
              "      <td>-0.364728</td>\n",
              "      <td>-0.231728</td>\n",
              "      <td>-0.325459</td>\n",
              "      <td>-0.318327</td>\n",
              "      <td>-0.315232</td>\n",
              "      <td>-0.570660</td>\n",
              "    </tr>\n",
              "    <tr>\n",
              "      <th>1</th>\n",
              "      <td>-0.345691</td>\n",
              "      <td>0.808931</td>\n",
              "      <td>0.181833</td>\n",
              "      <td>0.857601</td>\n",
              "      <td>-1.024683</td>\n",
              "      <td>-0.881770</td>\n",
              "      <td>1.773333</td>\n",
              "      <td>0.131865</td>\n",
              "      <td>0.182037</td>\n",
              "      <td>0.228359</td>\n",
              "      <td>...</td>\n",
              "      <td>-0.644949</td>\n",
              "      <td>-0.628190</td>\n",
              "      <td>-0.612902</td>\n",
              "      <td>-0.607288</td>\n",
              "      <td>-0.364728</td>\n",
              "      <td>-0.216941</td>\n",
              "      <td>-0.258931</td>\n",
              "      <td>-0.248680</td>\n",
              "      <td>-0.315232</td>\n",
              "      <td>-0.224495</td>\n",
              "    </tr>\n",
              "    <tr>\n",
              "      <th>2</th>\n",
              "      <td>-0.585765</td>\n",
              "      <td>0.808931</td>\n",
              "      <td>0.181833</td>\n",
              "      <td>0.857601</td>\n",
              "      <td>-0.158120</td>\n",
              "      <td>0.008592</td>\n",
              "      <td>0.105013</td>\n",
              "      <td>0.131865</td>\n",
              "      <td>0.182037</td>\n",
              "      <td>0.228359</td>\n",
              "      <td>...</td>\n",
              "      <td>-0.482834</td>\n",
              "      <td>-0.450267</td>\n",
              "      <td>-0.417562</td>\n",
              "      <td>-0.394695</td>\n",
              "      <td>-0.260885</td>\n",
              "      <td>-0.193169</td>\n",
              "      <td>-0.258931</td>\n",
              "      <td>-0.248680</td>\n",
              "      <td>-0.245605</td>\n",
              "      <td>0.294753</td>\n",
              "    </tr>\n",
              "    <tr>\n",
              "      <th>3</th>\n",
              "      <td>-0.905864</td>\n",
              "      <td>0.808931</td>\n",
              "      <td>0.181833</td>\n",
              "      <td>-1.056759</td>\n",
              "      <td>0.166841</td>\n",
              "      <td>0.008592</td>\n",
              "      <td>0.105013</td>\n",
              "      <td>0.131865</td>\n",
              "      <td>0.182037</td>\n",
              "      <td>0.228359</td>\n",
              "      <td>...</td>\n",
              "      <td>0.049729</td>\n",
              "      <td>-0.225300</td>\n",
              "      <td>-0.179425</td>\n",
              "      <td>-0.152519</td>\n",
              "      <td>-0.227912</td>\n",
              "      <td>-0.168493</td>\n",
              "      <td>-0.245626</td>\n",
              "      <td>-0.241715</td>\n",
              "      <td>-0.240800</td>\n",
              "      <td>-0.397577</td>\n",
              "    </tr>\n",
              "    <tr>\n",
              "      <th>4</th>\n",
              "      <td>-0.905864</td>\n",
              "      <td>-1.236200</td>\n",
              "      <td>0.181833</td>\n",
              "      <td>-1.056759</td>\n",
              "      <td>2.333247</td>\n",
              "      <td>-0.881770</td>\n",
              "      <td>0.105013</td>\n",
              "      <td>-0.701946</td>\n",
              "      <td>0.182037</td>\n",
              "      <td>0.228359</td>\n",
              "      <td>...</td>\n",
              "      <td>-0.150824</td>\n",
              "      <td>-0.343937</td>\n",
              "      <td>-0.346211</td>\n",
              "      <td>-0.332724</td>\n",
              "      <td>-0.227912</td>\n",
              "      <td>1.479504</td>\n",
              "      <td>0.339819</td>\n",
              "      <td>0.308495</td>\n",
              "      <td>-0.267259</td>\n",
              "      <td>-0.453137</td>\n",
              "    </tr>\n",
              "  </tbody>\n",
              "</table>\n",
              "<p>5 rows × 23 columns</p>\n",
              "</div>\n",
              "      <button class=\"colab-df-convert\" onclick=\"convertToInteractive('df-b93d9a49-b86f-4280-aba2-118dd8912455')\"\n",
              "              title=\"Convert this dataframe to an interactive table.\"\n",
              "              style=\"display:none;\">\n",
              "        \n",
              "  <svg xmlns=\"http://www.w3.org/2000/svg\" height=\"24px\"viewBox=\"0 0 24 24\"\n",
              "       width=\"24px\">\n",
              "    <path d=\"M0 0h24v24H0V0z\" fill=\"none\"/>\n",
              "    <path d=\"M18.56 5.44l.94 2.06.94-2.06 2.06-.94-2.06-.94-.94-2.06-.94 2.06-2.06.94zm-11 1L8.5 8.5l.94-2.06 2.06-.94-2.06-.94L8.5 2.5l-.94 2.06-2.06.94zm10 10l.94 2.06.94-2.06 2.06-.94-2.06-.94-.94-2.06-.94 2.06-2.06.94z\"/><path d=\"M17.41 7.96l-1.37-1.37c-.4-.4-.92-.59-1.43-.59-.52 0-1.04.2-1.43.59L10.3 9.45l-7.72 7.72c-.78.78-.78 2.05 0 2.83L4 21.41c.39.39.9.59 1.41.59.51 0 1.02-.2 1.41-.59l7.78-7.78 2.81-2.81c.8-.78.8-2.07 0-2.86zM5.41 20L4 18.59l7.72-7.72 1.47 1.35L5.41 20z\"/>\n",
              "  </svg>\n",
              "      </button>\n",
              "      \n",
              "  <style>\n",
              "    .colab-df-container {\n",
              "      display:flex;\n",
              "      flex-wrap:wrap;\n",
              "      gap: 12px;\n",
              "    }\n",
              "\n",
              "    .colab-df-convert {\n",
              "      background-color: #E8F0FE;\n",
              "      border: none;\n",
              "      border-radius: 50%;\n",
              "      cursor: pointer;\n",
              "      display: none;\n",
              "      fill: #1967D2;\n",
              "      height: 32px;\n",
              "      padding: 0 0 0 0;\n",
              "      width: 32px;\n",
              "    }\n",
              "\n",
              "    .colab-df-convert:hover {\n",
              "      background-color: #E2EBFA;\n",
              "      box-shadow: 0px 1px 2px rgba(60, 64, 67, 0.3), 0px 1px 3px 1px rgba(60, 64, 67, 0.15);\n",
              "      fill: #174EA6;\n",
              "    }\n",
              "\n",
              "    [theme=dark] .colab-df-convert {\n",
              "      background-color: #3B4455;\n",
              "      fill: #D2E3FC;\n",
              "    }\n",
              "\n",
              "    [theme=dark] .colab-df-convert:hover {\n",
              "      background-color: #434B5C;\n",
              "      box-shadow: 0px 1px 3px 1px rgba(0, 0, 0, 0.15);\n",
              "      filter: drop-shadow(0px 1px 2px rgba(0, 0, 0, 0.3));\n",
              "      fill: #FFFFFF;\n",
              "    }\n",
              "  </style>\n",
              "\n",
              "      <script>\n",
              "        const buttonEl =\n",
              "          document.querySelector('#df-b93d9a49-b86f-4280-aba2-118dd8912455 button.colab-df-convert');\n",
              "        buttonEl.style.display =\n",
              "          google.colab.kernel.accessAllowed ? 'block' : 'none';\n",
              "\n",
              "        async function convertToInteractive(key) {\n",
              "          const element = document.querySelector('#df-b93d9a49-b86f-4280-aba2-118dd8912455');\n",
              "          const dataTable =\n",
              "            await google.colab.kernel.invokeFunction('convertToInteractive',\n",
              "                                                     [key], {});\n",
              "          if (!dataTable) return;\n",
              "\n",
              "          const docLinkHtml = 'Like what you see? Visit the ' +\n",
              "            '<a target=\"_blank\" href=https://colab.research.google.com/notebooks/data_table.ipynb>data table notebook</a>'\n",
              "            + ' to learn more about interactive tables.';\n",
              "          element.innerHTML = '';\n",
              "          dataTable['output_type'] = 'display_data';\n",
              "          await google.colab.output.renderOutput(dataTable, element);\n",
              "          const docLink = document.createElement('div');\n",
              "          docLink.innerHTML = docLinkHtml;\n",
              "          element.appendChild(docLink);\n",
              "        }\n",
              "      </script>\n",
              "    </div>\n",
              "  </div>\n",
              "  "
            ]
          },
          "metadata": {},
          "execution_count": 32
        }
      ]
    },
    {
      "cell_type": "markdown",
      "source": [
        "Next, a train and test data split is created for the scaled data. This will be used for logistic regression, random forest, and the neural network."
      ],
      "metadata": {
        "id": "rtcMmS7LMJSp"
      }
    },
    {
      "cell_type": "code",
      "source": [
        "# Scaled train/test split \n",
        "X_train, X_test, y_train, y_test = train_test_split(scaled_data, credit['Default'], test_size = 0.30, random_state=42)"
      ],
      "metadata": {
        "id": "-NCpnjhNZLlf"
      },
      "execution_count": null,
      "outputs": []
    },
    {
      "cell_type": "markdown",
      "source": [
        "## **Logistic Regression**"
      ],
      "metadata": {
        "id": "CJ2oZPE6M4h4"
      }
    },
    {
      "cell_type": "markdown",
      "source": [
        "The logistic regression model is created using the train and test splits. The logistic model is fit (or \"trained\") with the training set, then the model is tested on the testing set."
      ],
      "metadata": {
        "id": "n2-UGMpHUZcR"
      }
    },
    {
      "cell_type": "code",
      "source": [
        "logmodel = LogisticRegression()\n",
        "logmodel.fit(X_train, y_train)"
      ],
      "metadata": {
        "colab": {
          "base_uri": "https://localhost:8080/"
        },
        "id": "hBO0CqysZbj6",
        "outputId": "6dff828a-6da4-4da9-f5e0-791e1051557c"
      },
      "execution_count": null,
      "outputs": [
        {
          "output_type": "execute_result",
          "data": {
            "text/plain": [
              "LogisticRegression()"
            ]
          },
          "metadata": {},
          "execution_count": 34
        }
      ]
    },
    {
      "cell_type": "code",
      "source": [
        "predictions = logmodel.predict(X_test)"
      ],
      "metadata": {
        "id": "skdSQbJtZ1X4"
      },
      "execution_count": null,
      "outputs": []
    },
    {
      "cell_type": "markdown",
      "source": [
        "A confusion matrix and classification report are created to see how well the logistic regression model performed."
      ],
      "metadata": {
        "id": "7qTThyUTU1W9"
      }
    },
    {
      "cell_type": "code",
      "source": [
        "print(confusion_matrix(y_test, predictions))"
      ],
      "metadata": {
        "colab": {
          "base_uri": "https://localhost:8080/"
        },
        "id": "Vy4gyyXfbRoe",
        "outputId": "5ddeb405-24aa-4edc-fb1e-1f375e1b28dc"
      },
      "execution_count": null,
      "outputs": [
        {
          "output_type": "stream",
          "name": "stdout",
          "text": [
            "[[6616  203]\n",
            " [1507  473]]\n"
          ]
        }
      ]
    },
    {
      "cell_type": "code",
      "source": [
        "print(classification_report(y_test, predictions))"
      ],
      "metadata": {
        "colab": {
          "base_uri": "https://localhost:8080/"
        },
        "id": "r-CnrTAZbLrx",
        "outputId": "1d9c6026-74da-4973-9359-4af7f55ee202"
      },
      "execution_count": null,
      "outputs": [
        {
          "output_type": "stream",
          "name": "stdout",
          "text": [
            "              precision    recall  f1-score   support\n",
            "\n",
            "           0       0.81      0.97      0.89      6819\n",
            "           1       0.70      0.24      0.36      1980\n",
            "\n",
            "    accuracy                           0.81      8799\n",
            "   macro avg       0.76      0.60      0.62      8799\n",
            "weighted avg       0.79      0.81      0.77      8799\n",
            "\n"
          ]
        }
      ]
    },
    {
      "cell_type": "code",
      "source": [
        "plot_confusion_matrix(logmodel, X_test, y_test)\n",
        "plt.grid(False)"
      ],
      "metadata": {
        "colab": {
          "base_uri": "https://localhost:8080/",
          "height": 335
        },
        "id": "4r5JdHqEnrRs",
        "outputId": "47b30953-3084-4e0a-a72e-fbb3c42ccb5d"
      },
      "execution_count": null,
      "outputs": [
        {
          "output_type": "stream",
          "name": "stderr",
          "text": [
            "/usr/local/lib/python3.8/dist-packages/sklearn/utils/deprecation.py:87: FutureWarning: Function plot_confusion_matrix is deprecated; Function `plot_confusion_matrix` is deprecated in 1.0 and will be removed in 1.2. Use one of the class methods: ConfusionMatrixDisplay.from_predictions or ConfusionMatrixDisplay.from_estimator.\n",
            "  warnings.warn(msg, category=FutureWarning)\n"
          ]
        },
        {
          "output_type": "display_data",
          "data": {
            "text/plain": [
              "<Figure size 432x288 with 2 Axes>"
            ],
            "image/png": "[encoded data removed]"
          },
          "metadata": {}
        }
      ]
    },
    {
      "cell_type": "markdown",
      "source": [
        "The logistic regression model did a good job accurately predicting when a client would not default, but did not do very well predicting when a client would default."
      ],
      "metadata": {
        "id": "BQ42SMHp1pKm"
      }
    },
    {
      "cell_type": "markdown",
      "source": [
        "## **Random Forest**"
      ],
      "metadata": {
        "id": "9nV9uAZ3NJFp"
      }
    },
    {
      "cell_type": "markdown",
      "source": [
        "Next, a random forest model is created to see if it can predict when a client would default better than the logistic regression model."
      ],
      "metadata": {
        "id": "Ob-cT1OM12uE"
      }
    },
    {
      "cell_type": "code",
      "source": [
        "from sklearn.ensemble import RandomForestClassifier"
      ],
      "metadata": {
        "id": "_6CQs7odoRm9"
      },
      "execution_count": null,
      "outputs": []
    },
    {
      "cell_type": "code",
      "source": [
        "rfc = RandomForestClassifier(n_estimators = 400)\n",
        "rfc.fit(X_train, y_train)"
      ],
      "metadata": {
        "colab": {
          "base_uri": "https://localhost:8080/"
        },
        "id": "5rfSDZiozFaa",
        "outputId": "0113c04d-8050-4a88-fde7-2c12dc31c94e"
      },
      "execution_count": null,
      "outputs": [
        {
          "output_type": "execute_result",
          "data": {
            "text/plain": [
              "RandomForestClassifier(n_estimators=400)"
            ]
          },
          "metadata": {},
          "execution_count": 40
        }
      ]
    },
    {
      "cell_type": "code",
      "source": [
        "rfc_pred = rfc.predict(X_test) "
      ],
      "metadata": {
        "id": "-_a062R8zJo2"
      },
      "execution_count": null,
      "outputs": []
    },
    {
      "cell_type": "code",
      "source": [
        "print(confusion_matrix(y_test, rfc_pred))"
      ],
      "metadata": {
        "colab": {
          "base_uri": "https://localhost:8080/"
        },
        "id": "F3wTNMOSzUB5",
        "outputId": "3358aa69-ea23-4569-d052-d2e84fbd1846"
      },
      "execution_count": null,
      "outputs": [
        {
          "output_type": "stream",
          "name": "stdout",
          "text": [
            "[[6398  421]\n",
            " [1227  753]]\n"
          ]
        }
      ]
    },
    {
      "cell_type": "code",
      "source": [
        "print(classification_report(y_test, rfc_pred))"
      ],
      "metadata": {
        "colab": {
          "base_uri": "https://localhost:8080/"
        },
        "id": "xU8GNdXrzRTA",
        "outputId": "eb25aaf1-212c-48cb-bd1c-4c4318d947f2"
      },
      "execution_count": null,
      "outputs": [
        {
          "output_type": "stream",
          "name": "stdout",
          "text": [
            "              precision    recall  f1-score   support\n",
            "\n",
            "           0       0.84      0.94      0.89      6819\n",
            "           1       0.64      0.38      0.48      1980\n",
            "\n",
            "    accuracy                           0.81      8799\n",
            "   macro avg       0.74      0.66      0.68      8799\n",
            "weighted avg       0.79      0.81      0.79      8799\n",
            "\n"
          ]
        }
      ]
    },
    {
      "cell_type": "code",
      "source": [
        "plot_confusion_matrix(rfc, X_test, y_test)\n",
        "plt.grid(False)"
      ],
      "metadata": {
        "colab": {
          "base_uri": "https://localhost:8080/",
          "height": 335
        },
        "id": "MuBA077gzWfQ",
        "outputId": "5615ec64-cfe8-4363-a375-c71e584116b1"
      },
      "execution_count": null,
      "outputs": [
        {
          "output_type": "stream",
          "name": "stderr",
          "text": [
            "/usr/local/lib/python3.8/dist-packages/sklearn/utils/deprecation.py:87: FutureWarning: Function plot_confusion_matrix is deprecated; Function `plot_confusion_matrix` is deprecated in 1.0 and will be removed in 1.2. Use one of the class methods: ConfusionMatrixDisplay.from_predictions or ConfusionMatrixDisplay.from_estimator.\n",
            "  warnings.warn(msg, category=FutureWarning)\n"
          ]
        },
        {
          "output_type": "display_data",
          "data": {
            "text/plain": [
              "<Figure size 432x288 with 2 Axes>"
            ],
            "image/png": "[encoded data removed]"
          },
          "metadata": {}
        }
      ]
    },
    {
      "cell_type": "markdown",
      "source": [
        "The random forest model did a better job predicting when a client would default, but actually did a little worse predicting a client who would not default. However, there wasn't a significant difference in the overall accuracy."
      ],
      "metadata": {
        "id": "AV_NYnec2GyD"
      }
    },
    {
      "cell_type": "markdown",
      "source": [
        "## **Neural Network**"
      ],
      "metadata": {
        "id": "VS275DW7NM3F"
      }
    },
    {
      "cell_type": "markdown",
      "source": [
        "Finally, a neural network model is created to see if it can create a more accurate model than the logistic regression and random forest models."
      ],
      "metadata": {
        "id": "d17RYIIN27Lf"
      }
    },
    {
      "cell_type": "code",
      "source": [
        "import tensorflow as tf\n",
        "from tensorflow.keras.models import Sequential\n",
        "from tensorflow.keras.layers import Dense,Dropout\n",
        "from tensorflow.keras.callbacks import EarlyStopping"
      ],
      "metadata": {
        "id": "Jprl6F43AN6Q"
      },
      "execution_count": null,
      "outputs": []
    },
    {
      "cell_type": "markdown",
      "source": [
        "Below is the model created. This example uses two hidden layers. Neural networks are up to the user on how to create the model for accuracy."
      ],
      "metadata": {
        "id": "UZkmen_n40tZ"
      }
    },
    {
      "cell_type": "code",
      "source": [
        "model = Sequential()\n",
        "# input layer\n",
        "model.add(Dense(50,  activation='relu'))\n",
        "model.add(Dropout(0.4))\n",
        "\n",
        "# hidden layer\n",
        "model.add(Dense(25, activation='relu'))\n",
        "model.add(Dropout(0.4))\n",
        "\n",
        "# hidden layer\n",
        "model.add(Dense(10, activation='relu'))\n",
        "model.add(Dropout(0.4))\n",
        "\n",
        "# output layer\n",
        "model.add(Dense(units=1,activation='sigmoid'))\n",
        "\n",
        "# Compile model\n",
        "model.compile(loss='binary_crossentropy', optimizer='adam')"
      ],
      "metadata": {
        "id": "sjYRKjGRHOUs"
      },
      "execution_count": null,
      "outputs": []
    },
    {
      "cell_type": "markdown",
      "source": [
        "An early stop is created to prevent overfitting in the model."
      ],
      "metadata": {
        "id": "bsCMMZZS5isf"
      }
    },
    {
      "cell_type": "code",
      "source": [
        "early_stop = EarlyStopping(monitor='val_loss', mode='min', verbose=1, patience=25)"
      ],
      "metadata": {
        "id": "LlRgseGPHpjZ"
      },
      "execution_count": null,
      "outputs": []
    },
    {
      "cell_type": "code",
      "source": [
        "model.fit(x=X_train, \n",
        "          y=y_train, \n",
        "          epochs=100,\n",
        "          validation_data=(X_test, y_test), verbose=1,\n",
        "          callbacks=[early_stop]\n",
        "          )"
      ],
      "metadata": {
        "colab": {
          "base_uri": "https://localhost:8080/"
        },
        "id": "23Z8EWZ7Ib8U",
        "outputId": "fe8bc171-c10c-41d2-d458-459ebf7a3b82"
      },
      "execution_count": null,
      "outputs": [
        {
          "output_type": "stream",
          "name": "stdout",
          "text": [
            "Epoch 1/100\n",
            "642/642 [==============================] - 3s 3ms/step - loss: 0.5469 - val_loss: 0.4736\n",
            "Epoch 2/100\n",
            "642/642 [==============================] - 2s 3ms/step - loss: 0.5002 - val_loss: 0.4625\n",
            "Epoch 3/100\n",
            "642/642 [==============================] - 2s 2ms/step - loss: 0.4799 - val_loss: 0.4569\n",
            "Epoch 4/100\n",
            "642/642 [==============================] - 2s 3ms/step - loss: 0.4701 - val_loss: 0.4525\n",
            "Epoch 5/100\n",
            "642/642 [==============================] - 2s 3ms/step - loss: 0.4690 - val_loss: 0.4514\n",
            "Epoch 6/100\n",
            "642/642 [==============================] - 2s 2ms/step - loss: 0.4631 - val_loss: 0.4527\n",
            "Epoch 7/100\n",
            "642/642 [==============================] - 2s 3ms/step - loss: 0.4639 - val_loss: 0.4472\n",
            "Epoch 8/100\n",
            "642/642 [==============================] - 2s 3ms/step - loss: 0.4621 - val_loss: 0.4484\n",
            "Epoch 9/100\n",
            "642/642 [==============================] - 2s 3ms/step - loss: 0.4596 - val_loss: 0.4461\n",
            "Epoch 10/100\n",
            "642/642 [==============================] - 3s 4ms/step - loss: 0.4572 - val_loss: 0.4449\n",
            "Epoch 11/100\n",
            "642/642 [==============================] - 2s 3ms/step - loss: 0.4579 - val_loss: 0.4448\n",
            "Epoch 12/100\n",
            "642/642 [==============================] - 2s 3ms/step - loss: 0.4572 - val_loss: 0.4438\n",
            "Epoch 13/100\n",
            "642/642 [==============================] - 2s 3ms/step - loss: 0.4546 - val_loss: 0.4434\n",
            "Epoch 14/100\n",
            "642/642 [==============================] - 2s 2ms/step - loss: 0.4559 - val_loss: 0.4441\n",
            "Epoch 15/100\n",
            "642/642 [==============================] - 2s 3ms/step - loss: 0.4529 - val_loss: 0.4453\n",
            "Epoch 16/100\n",
            "642/642 [==============================] - 2s 3ms/step - loss: 0.4538 - val_loss: 0.4450\n",
            "Epoch 17/100\n",
            "642/642 [==============================] - 2s 2ms/step - loss: 0.4530 - val_loss: 0.4449\n",
            "Epoch 18/100\n",
            "642/642 [==============================] - 3s 4ms/step - loss: 0.4499 - val_loss: 0.4457\n",
            "Epoch 19/100\n",
            "642/642 [==============================] - 3s 4ms/step - loss: 0.4505 - val_loss: 0.4423\n",
            "Epoch 20/100\n",
            "642/642 [==============================] - 2s 2ms/step - loss: 0.4500 - val_loss: 0.4423\n",
            "Epoch 21/100\n",
            "642/642 [==============================] - 2s 3ms/step - loss: 0.4512 - val_loss: 0.4432\n",
            "Epoch 22/100\n",
            "642/642 [==============================] - 2s 3ms/step - loss: 0.4505 - val_loss: 0.4408\n",
            "Epoch 23/100\n",
            "642/642 [==============================] - 2s 2ms/step - loss: 0.4479 - val_loss: 0.4415\n",
            "Epoch 24/100\n",
            "642/642 [==============================] - 2s 3ms/step - loss: 0.4493 - val_loss: 0.4421\n",
            "Epoch 25/100\n",
            "642/642 [==============================] - 2s 3ms/step - loss: 0.4484 - val_loss: 0.4404\n",
            "Epoch 26/100\n",
            "642/642 [==============================] - 2s 2ms/step - loss: 0.4497 - val_loss: 0.4443\n",
            "Epoch 27/100\n",
            "642/642 [==============================] - 2s 2ms/step - loss: 0.4507 - val_loss: 0.4411\n",
            "Epoch 28/100\n",
            "642/642 [==============================] - 2s 3ms/step - loss: 0.4496 - val_loss: 0.4407\n",
            "Epoch 29/100\n",
            "642/642 [==============================] - 2s 2ms/step - loss: 0.4469 - val_loss: 0.4411\n",
            "Epoch 30/100\n",
            "642/642 [==============================] - 2s 2ms/step - loss: 0.4468 - val_loss: 0.4406\n",
            "Epoch 31/100\n",
            "642/642 [==============================] - 2s 3ms/step - loss: 0.4428 - val_loss: 0.4436\n",
            "Epoch 32/100\n",
            "642/642 [==============================] - 2s 3ms/step - loss: 0.4488 - val_loss: 0.4434\n",
            "Epoch 33/100\n",
            "642/642 [==============================] - 2s 2ms/step - loss: 0.4459 - val_loss: 0.4405\n",
            "Epoch 34/100\n",
            "642/642 [==============================] - 2s 2ms/step - loss: 0.4455 - val_loss: 0.4412\n",
            "Epoch 35/100\n",
            "642/642 [==============================] - 2s 2ms/step - loss: 0.4465 - val_loss: 0.4414\n",
            "Epoch 36/100\n",
            "642/642 [==============================] - 2s 2ms/step - loss: 0.4453 - val_loss: 0.4386\n",
            "Epoch 37/100\n",
            "642/642 [==============================] - 2s 2ms/step - loss: 0.4452 - val_loss: 0.4401\n",
            "Epoch 38/100\n",
            "642/642 [==============================] - 2s 3ms/step - loss: 0.4448 - val_loss: 0.4401\n",
            "Epoch 39/100\n",
            "642/642 [==============================] - 2s 3ms/step - loss: 0.4428 - val_loss: 0.4384\n",
            "Epoch 40/100\n",
            "642/642 [==============================] - 2s 3ms/step - loss: 0.4458 - val_loss: 0.4416\n",
            "Epoch 41/100\n",
            "642/642 [==============================] - 2s 3ms/step - loss: 0.4465 - val_loss: 0.4391\n",
            "Epoch 42/100\n",
            "642/642 [==============================] - 2s 2ms/step - loss: 0.4455 - val_loss: 0.4395\n",
            "Epoch 43/100\n",
            "642/642 [==============================] - 2s 3ms/step - loss: 0.4428 - val_loss: 0.4392\n",
            "Epoch 44/100\n",
            "642/642 [==============================] - 2s 3ms/step - loss: 0.4428 - val_loss: 0.4377\n",
            "Epoch 45/100\n",
            "642/642 [==============================] - 2s 3ms/step - loss: 0.4449 - val_loss: 0.4451\n",
            "Epoch 46/100\n",
            "642/642 [==============================] - 2s 3ms/step - loss: 0.4434 - val_loss: 0.4398\n",
            "Epoch 47/100\n",
            "642/642 [==============================] - 2s 3ms/step - loss: 0.4441 - val_loss: 0.4393\n",
            "Epoch 48/100\n",
            "642/642 [==============================] - 2s 3ms/step - loss: 0.4425 - val_loss: 0.4380\n",
            "Epoch 49/100\n",
            "642/642 [==============================] - 2s 3ms/step - loss: 0.4443 - val_loss: 0.4412\n",
            "Epoch 50/100\n",
            "642/642 [==============================] - 2s 3ms/step - loss: 0.4442 - val_loss: 0.4401\n",
            "Epoch 51/100\n",
            "642/642 [==============================] - 2s 3ms/step - loss: 0.4427 - val_loss: 0.4383\n",
            "Epoch 52/100\n",
            "642/642 [==============================] - 2s 3ms/step - loss: 0.4418 - val_loss: 0.4384\n",
            "Epoch 53/100\n",
            "642/642 [==============================] - 2s 3ms/step - loss: 0.4469 - val_loss: 0.4421\n",
            "Epoch 54/100\n",
            "642/642 [==============================] - 2s 3ms/step - loss: 0.4425 - val_loss: 0.4401\n",
            "Epoch 55/100\n",
            "642/642 [==============================] - 2s 3ms/step - loss: 0.4426 - val_loss: 0.4405\n",
            "Epoch 56/100\n",
            "642/642 [==============================] - 2s 3ms/step - loss: 0.4429 - val_loss: 0.4402\n",
            "Epoch 57/100\n",
            "642/642 [==============================] - 2s 3ms/step - loss: 0.4417 - val_loss: 0.4403\n",
            "Epoch 58/100\n",
            "642/642 [==============================] - 2s 3ms/step - loss: 0.4423 - val_loss: 0.4379\n",
            "Epoch 59/100\n",
            "642/642 [==============================] - 2s 3ms/step - loss: 0.4421 - val_loss: 0.4398\n",
            "Epoch 60/100\n",
            "642/642 [==============================] - 2s 3ms/step - loss: 0.4445 - val_loss: 0.4385\n",
            "Epoch 61/100\n",
            "642/642 [==============================] - 2s 3ms/step - loss: 0.4440 - val_loss: 0.4400\n",
            "Epoch 62/100\n",
            "642/642 [==============================] - 2s 3ms/step - loss: 0.4442 - val_loss: 0.4375\n",
            "Epoch 63/100\n",
            "642/642 [==============================] - 2s 3ms/step - loss: 0.4422 - val_loss: 0.4382\n",
            "Epoch 64/100\n",
            "642/642 [==============================] - 2s 3ms/step - loss: 0.4388 - val_loss: 0.4384\n",
            "Epoch 65/100\n",
            "642/642 [==============================] - 2s 3ms/step - loss: 0.4436 - val_loss: 0.4370\n",
            "Epoch 66/100\n",
            "642/642 [==============================] - 2s 3ms/step - loss: 0.4409 - val_loss: 0.4402\n",
            "Epoch 67/100\n",
            "642/642 [==============================] - 2s 3ms/step - loss: 0.4425 - val_loss: 0.4403\n",
            "Epoch 68/100\n",
            "642/642 [==============================] - 2s 3ms/step - loss: 0.4406 - val_loss: 0.4393\n",
            "Epoch 69/100\n",
            "642/642 [==============================] - 2s 3ms/step - loss: 0.4394 - val_loss: 0.4385\n",
            "Epoch 70/100\n",
            "642/642 [==============================] - 2s 3ms/step - loss: 0.4412 - val_loss: 0.4392\n",
            "Epoch 71/100\n",
            "642/642 [==============================] - 3s 5ms/step - loss: 0.4410 - val_loss: 0.4395\n",
            "Epoch 72/100\n",
            "642/642 [==============================] - 2s 3ms/step - loss: 0.4411 - val_loss: 0.4415\n",
            "Epoch 73/100\n",
            "642/642 [==============================] - 2s 3ms/step - loss: 0.4393 - val_loss: 0.4385\n",
            "Epoch 74/100\n",
            "642/642 [==============================] - 2s 3ms/step - loss: 0.4408 - val_loss: 0.4396\n",
            "Epoch 75/100\n",
            "642/642 [==============================] - 2s 3ms/step - loss: 0.4421 - val_loss: 0.4383\n",
            "Epoch 76/100\n",
            "642/642 [==============================] - 2s 3ms/step - loss: 0.4416 - val_loss: 0.4391\n",
            "Epoch 77/100\n",
            "642/642 [==============================] - 2s 3ms/step - loss: 0.4419 - val_loss: 0.4394\n",
            "Epoch 78/100\n",
            "642/642 [==============================] - 2s 3ms/step - loss: 0.4379 - val_loss: 0.4395\n",
            "Epoch 79/100\n",
            "642/642 [==============================] - 2s 3ms/step - loss: 0.4438 - val_loss: 0.4396\n",
            "Epoch 80/100\n",
            "642/642 [==============================] - 2s 3ms/step - loss: 0.4409 - val_loss: 0.4398\n",
            "Epoch 81/100\n",
            "642/642 [==============================] - 2s 3ms/step - loss: 0.4398 - val_loss: 0.4393\n",
            "Epoch 82/100\n",
            "642/642 [==============================] - 2s 3ms/step - loss: 0.4416 - val_loss: 0.4395\n",
            "Epoch 83/100\n",
            "642/642 [==============================] - 2s 3ms/step - loss: 0.4376 - val_loss: 0.4403\n",
            "Epoch 84/100\n",
            "642/642 [==============================] - 2s 2ms/step - loss: 0.4391 - val_loss: 0.4386\n",
            "Epoch 85/100\n",
            "642/642 [==============================] - 2s 3ms/step - loss: 0.4379 - val_loss: 0.4379\n",
            "Epoch 86/100\n",
            "642/642 [==============================] - 2s 3ms/step - loss: 0.4392 - val_loss: 0.4386\n",
            "Epoch 87/100\n",
            "642/642 [==============================] - 2s 3ms/step - loss: 0.4379 - val_loss: 0.4376\n",
            "Epoch 88/100\n",
            "642/642 [==============================] - 2s 3ms/step - loss: 0.4414 - val_loss: 0.4394\n",
            "Epoch 89/100\n",
            "642/642 [==============================] - 2s 3ms/step - loss: 0.4394 - val_loss: 0.4395\n",
            "Epoch 90/100\n",
            "642/642 [==============================] - 2s 3ms/step - loss: 0.4411 - val_loss: 0.4396\n",
            "Epoch 90: early stopping\n"
          ]
        },
        {
          "output_type": "execute_result",
          "data": {
            "text/plain": [
              "<keras.callbacks.History at 0x7f62108f3130>"
            ]
          },
          "metadata": {},
          "execution_count": 48
        }
      ]
    },
    {
      "cell_type": "code",
      "source": [
        "neural_predict = (model.predict(X_test) > 0.5).astype(\"int32\")"
      ],
      "metadata": {
        "colab": {
          "base_uri": "https://localhost:8080/"
        },
        "id": "oOjy8brhIiS7",
        "outputId": "8f11c69c-ce60-400a-a5ca-66a1e9febf7a"
      },
      "execution_count": null,
      "outputs": [
        {
          "output_type": "stream",
          "name": "stdout",
          "text": [
            "275/275 [==============================] - 0s 1ms/step\n"
          ]
        }
      ]
    },
    {
      "cell_type": "code",
      "source": [
        "print(confusion_matrix(y_test, neural_predict))\n",
        "print('\\n')\n",
        "print(classification_report(y_test, neural_predict))"
      ],
      "metadata": {
        "colab": {
          "base_uri": "https://localhost:8080/"
        },
        "id": "Hnge5K7GJhQW",
        "outputId": "4c1c36f7-2c1a-4cfa-8399-ae314f0a5e52"
      },
      "execution_count": null,
      "outputs": [
        {
          "output_type": "stream",
          "name": "stdout",
          "text": [
            "[[6464  355]\n",
            " [1248  732]]\n",
            "\n",
            "\n",
            "              precision    recall  f1-score   support\n",
            "\n",
            "           0       0.84      0.95      0.89      6819\n",
            "           1       0.67      0.37      0.48      1980\n",
            "\n",
            "    accuracy                           0.82      8799\n",
            "   macro avg       0.76      0.66      0.68      8799\n",
            "weighted avg       0.80      0.82      0.80      8799\n",
            "\n"
          ]
        }
      ]
    },
    {
      "cell_type": "markdown",
      "source": [
        "The neural network model did not seem to make any improvements over the logistic regression or random forest models. All three models have a relatively similar accuracy for both options (default vs. not default).\n",
        "\n"
      ],
      "metadata": {
        "id": "-5dFyb6t5pjf"
      }
    },
    {
      "cell_type": "markdown",
      "source": [
        "## **Conclusion**"
      ],
      "metadata": {
        "id": "Pi0a8Eu_-sT1"
      }
    },
    {
      "cell_type": "markdown",
      "source": [
        "This Python session attempted to create a prediction model via logistic regression, random forest, and neural network to determine if a client will deault on their credit card.\n",
        "\n",
        "Overall, it's up to the user to decide which model to use for predicting credit card default. For me, I would use the random forest model since it did a (slightly) better job predicting if a client would default on their credit card.\n",
        "\n",
        "In order to improve the model, a deeper look into outliers may be beneficial. I attempted to remove a few outliers by viewing a couple box plots, but a more in-depth look would be needed to confidently sort through the outliers."
      ],
      "metadata": {
        "id": "oOTGDHWH-wtl"
      }
    }
  ]
}